{
 "cells": [
  {
   "cell_type": "markdown",
   "id": "recovered-mexico",
   "metadata": {},
   "source": [
    "# Chapter 4. Feature engineering and Represeting data.\n",
    "# Part 4. Nonlinear Transformations.\n",
    "Transform feature data into more convenient state. The most convenient state is gaussian distribution so transformation methods should strive for it.\n",
    "\n",
    "There are 4 handy mathematical transform functions:\n",
    "\n",
    "log(), exp(), sin(), cos()"
   ]
  },
  {
   "cell_type": "markdown",
   "id": "stock-supervisor",
   "metadata": {},
   "source": [
    "## - Preparing datasets (discrete data)"
   ]
  },
  {
   "cell_type": "markdown",
   "id": "leading-wisdom",
   "metadata": {},
   "source": [
    "#### Vanilla dataset:"
   ]
  },
  {
   "cell_type": "code",
   "execution_count": 21,
   "id": "organized-highland",
   "metadata": {},
   "outputs": [],
   "source": [
    "import numpy as np\n",
    "import matplotlib.pyplot as plt\n",
    "\n",
    "rnd = np.random.RandomState(0)\n",
    "X_org = rnd.normal(size=(1000, 3))\n",
    "w = rnd.normal(size=3)\n",
    "\n",
    "X = rnd.poisson(10*np.exp(X_org))\n",
    "y = np.dot(X_org, w)"
   ]
  },
  {
   "cell_type": "code",
   "execution_count": 30,
   "id": "nearby-stuff",
   "metadata": {},
   "outputs": [],
   "source": [
    "from sklearn.model_selection import train_test_split\n",
    "X_train, X_test, y_train, y_test = train_test_split(X, y, random_state=0)"
   ]
  },
  {
   "cell_type": "markdown",
   "id": "immune-bruce",
   "metadata": {},
   "source": [
    "Number of 1st feature value appearances:"
   ]
  },
  {
   "cell_type": "code",
   "execution_count": 26,
   "id": "miniature-nancy",
   "metadata": {},
   "outputs": [
    {
     "name": "stdout",
     "output_type": "stream",
     "text": [
      "Number of 1st feature value appearances:\n",
      "[28 38 68 48 61 59 45 56 37 40 35 34 36 26 23 26 27 21 23 23 18 21 10  9\n",
      " 17  9  7 14 12  7  3  8  4  5  5  3  4  2  4  1  1  3  2  5  3  8  2  5\n",
      "  2  1  2  3  3  2  2  3  3  0  1  2  1  0  0  3  1  0  0  0  1  3  0  1\n",
      "  0  2  0  1  1  0  0  0  0  1  0  0  2  2  0  1  1  0  0  0  0  1  1  0\n",
      "  0  0  0  0  0  0  1  0  0  0  0  0  1  1  0  0  1  0  0  0  0  0  0  0\n",
      "  1  0  0  0  0  1  0  0  0  0  0  0  0  0  0  0  0  0  0  0  1]\n"
     ]
    },
    {
     "data": {
      "text/plain": [
       "Text(0.5, 0, 'Feature value')"
      ]
     },
     "execution_count": 26,
     "metadata": {},
     "output_type": "execute_result"
    },
    {
     "data": {
      "image/png": "[encoded data removed]",
      "text/plain": [
       "<Figure size 432x288 with 1 Axes>"
      ]
     },
     "metadata": {
      "needs_background": "light"
     },
     "output_type": "display_data"
    }
   ],
   "source": [
    "print(\"Number of 1st feature value appearances:\\n{}\".format(np.bincount(X[:, 0])))\n",
    "\n",
    "bins = np.bincount(X[:, 0])\n",
    "plt.bar(range(len(bins)), bins)\n",
    "plt.ylabel(\"Number of 1st feature value appearances\")\n",
    "plt.xlabel(\"Feature value\")"
   ]
  },
  {
   "cell_type": "markdown",
   "id": "narrative-riding",
   "metadata": {},
   "source": [
    "^ Features distributed with a high contrast of density which is a problem for models. 2nd and 3rd features have the same issue"
   ]
  },
  {
   "cell_type": "markdown",
   "id": "verbal-appeal",
   "metadata": {},
   "source": [
    "#### Modified dataset ( log(X+1) ):"
   ]
  },
  {
   "cell_type": "code",
   "execution_count": 32,
   "id": "based-segment",
   "metadata": {},
   "outputs": [],
   "source": [
    "X_train_log = np.log(X_train + 1)\n",
    "X_test_log = np.log(X_test + 1)"
   ]
  },
  {
   "cell_type": "code",
   "execution_count": 34,
   "id": "liked-colony",
   "metadata": {},
   "outputs": [
    {
     "data": {
      "text/plain": [
       "Text(0.5, 0, 'Feature value')"
      ]
     },
     "execution_count": 34,
     "metadata": {},
     "output_type": "execute_result"
    },
    {
     "data": {
      "image/png": "[encoded data removed]",
      "text/plain": [
       "<Figure size 432x288 with 1 Axes>"
      ]
     },
     "metadata": {
      "needs_background": "light"
     },
     "output_type": "display_data"
    }
   ],
   "source": [
    "plt.hist(X_train_log[:, 0], bins=25)\n",
    "plt.ylabel(\"Number of 1st feature value appearances\")\n",
    "plt.xlabel(\"Feature value\")"
   ]
  },
  {
   "cell_type": "markdown",
   "id": "different-fellow",
   "metadata": {},
   "source": [
    "^ New dataset seems to be more convenient."
   ]
  },
  {
   "cell_type": "markdown",
   "id": "fewer-boundary",
   "metadata": {},
   "source": [
    "## - Applying Ridge for vanilla and modified dataset"
   ]
  },
  {
   "cell_type": "code",
   "execution_count": 36,
   "id": "becoming-graphics",
   "metadata": {},
   "outputs": [],
   "source": [
    "from sklearn.linear_model import Ridge\n",
    "from sklearn.model_selection import train_test_split"
   ]
  },
  {
   "cell_type": "code",
   "execution_count": 37,
   "id": "sophisticated-surge",
   "metadata": {},
   "outputs": [
    {
     "name": "stdout",
     "output_type": "stream",
     "text": [
      "Test accuracy: 0.622\n"
     ]
    }
   ],
   "source": [
    "score = Ridge().fit(X_train, y_train).score(X_test, y_test)\n",
    "print(\"Test accuracy: {:.3f}\".format(score))"
   ]
  },
  {
   "cell_type": "markdown",
   "id": "active-florist",
   "metadata": {},
   "source": [
    "^ Accuracy is horrible."
   ]
  },
  {
   "cell_type": "code",
   "execution_count": 38,
   "id": "greatest-collective",
   "metadata": {},
   "outputs": [
    {
     "name": "stdout",
     "output_type": "stream",
     "text": [
      "R-квадрат на тестовом наборе: 0.875\n"
     ]
    }
   ],
   "source": [
    "score = Ridge().fit(X_train_log, y_train).score(X_test_log, y_test)\n",
    "print(\"Test accuracy: {:.3f}\".format(score))"
   ]
  },
  {
   "cell_type": "markdown",
   "id": "associate-champion",
   "metadata": {},
   "source": [
    "^ Accuracy is much better."
   ]
  },
  {
   "cell_type": "markdown",
   "id": "infrared-peninsula",
   "metadata": {},
   "source": [
    "Finding the best transform for da"
   ]
  }
 ],
 "metadata": {
  "kernelspec": {
   "display_name": "Python 3",
   "language": "python",
   "name": "python3"
  },
  "language_info": {
   "codemirror_mode": {
    "name": "ipython",
    "version": 3
   },
   "file_extension": ".py",
   "mimetype": "text/x-python",
   "name": "python",
   "nbconvert_exporter": "python",
   "pygments_lexer": "ipython3",
   "version": "3.8.10"
  }
 },
 "nbformat": 4,
 "nbformat_minor": 5
}
