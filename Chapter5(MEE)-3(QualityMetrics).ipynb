{
 "cells": [
  {
   "cell_type": "markdown",
   "id": "naval-longitude",
   "metadata": {},
   "source": [
    "# Chapter 5. Model evaluation and enhancement.\n",
    "# Part 3. Quality metrics.\n",
    "R^2 for regressions and accuracy for classificators sometimes are not the metrics that really needed. Thus there are more.\n",
    "\n",
    "2 types of errors:\n",
    "\n",
    "1) False-positive\n",
    "\n",
    "2) False-negative\n",
    "\n",
    "Accuracy is NOT an adequate metric for evaluating model prognostic ability fitted over unbalanced datasets."
   ]
  },
  {
   "cell_type": "markdown",
   "id": "defensive-woman",
   "metadata": {},
   "source": [
    "## - Confusion Matrices\n",
    "One of the most qualitative methods to evaluate model's prognostic ability"
   ]
  },
  {
   "cell_type": "code",
   "execution_count": 7,
   "id": "spectacular-fabric",
   "metadata": {
    "scrolled": true
   },
   "outputs": [
    {
     "name": "stdout",
     "output_type": "stream",
     "text": [
      "Confusion matrix: \n",
      "[[402   1]\n",
      " [  6  41]]\n"
     ]
    },
    {
     "name": "stderr",
     "output_type": "stream",
     "text": [
      "/home/akado/.local/lib/python3.8/site-packages/sklearn/linear_model/_logistic.py:763: ConvergenceWarning: lbfgs failed to converge (status=1):\n",
      "STOP: TOTAL NO. of ITERATIONS REACHED LIMIT.\n",
      "\n",
      "Increase the number of iterations (max_iter) or scale the data as shown in:\n",
      "    https://scikit-learn.org/stable/modules/preprocessing.html\n",
      "Please also refer to the documentation for alternative solver options:\n",
      "    https://scikit-learn.org/stable/modules/linear_model.html#logistic-regression\n",
      "  n_iter_i = _check_optimize_result(\n"
     ]
    }
   ],
   "source": [
    "from sklearn.linear_model import LogisticRegression\n",
    "from sklearn.datasets import load_digits\n",
    "from sklearn.model_selection import train_test_split\n",
    "from sklearn.metrics import confusion_matrix\n",
    "\n",
    "#-----setting up\n",
    "#--loading dataset\n",
    "digits = load_digits()\n",
    "#'== 9' means that dataset will have only one forecasting class\n",
    "y = digits.target == 9\n",
    "X_train, X_test, y_train, y_test = train_test_split(digits.data, y, random_state=0)\n",
    "\n",
    "#initialization, builidng and applying logreg\n",
    "logreg = LogisticRegression(C=0.2).fit(X_train, y_train)\n",
    "pred_logreg = logreg.predict(X_test)\n",
    "\n",
    "#-----applying confusion matrix\n",
    "confusion = confusion_matrix(y_test, pred_logreg)\n",
    "print('Confusion matrix: \\n{}'.format(confusion))"
   ]
  },
  {
   "cell_type": "markdown",
   "id": "liked-transcription",
   "metadata": {},
   "source": [
    "^ Gain array means following:\n",
    "\n",
    "Number of rows (2): There were 2 actual classes and each row represents one of them\n",
    "\n",
    "Number of columns (2): Forecated 2 classes and each column represents one of them\n",
    "\n",
    "Main diagonal represents number of correctly forecasted samples\n",
    "\n",
    "Rest of elements represents numbers of mistakes"
   ]
  },
  {
   "cell_type": "markdown",
   "id": "motivated-design",
   "metadata": {},
   "source": [
    "#### Some examples for alternative models:\n",
    "These models show nice accuracy but considering the unbalanced dataset they were trained on AND the very incorrect specifics of some of them, there IS a need of using another metrics like confusion matrix to check the actual prognostic ability."
   ]
  },
  {
   "cell_type": "code",
   "execution_count": 9,
   "id": "compatible-chapter",
   "metadata": {},
   "outputs": [
    {
     "name": "stdout",
     "output_type": "stream",
     "text": [
      "<Most frequent> strategy:\n",
      "[[403   0]\n",
      " [ 47   0]]\n",
      "\n",
      "<Dummy model> strategy:\n",
      "[[403   0]\n",
      " [ 47   0]]\n",
      "\n",
      "<Tree model> strategy:\n",
      "[[390  13]\n",
      " [ 24  23]]\n"
     ]
    }
   ],
   "source": [
    "from sklearn.dummy import DummyClassifier\n",
    "from sklearn.tree import DecisionTreeClassifier\n",
    "\n",
    "#-----setting up models\n",
    "#strategy - most frequent class preferring\n",
    "dummy_majority = DummyClassifier(strategy='most_frequent').fit(X_train, y_train)\n",
    "pred_most_frequent = dummy_majority.predict(X_test)\n",
    "\n",
    "#strategy - tree model\n",
    "tree = DecisionTreeClassifier(max_depth=2).fit(X_train, y_train)\n",
    "pred_tree = tree.predict(X_test)\n",
    "\n",
    "#strategy - dummies model\n",
    "dummy = DummyClassifier().fit(X_train, y_train)\n",
    "pred_dummy = dummy.predict(X_test)\n",
    "\n",
    "#model's quality check\n",
    "print(\"<Most frequent> strategy:\")\n",
    "print(confusion_matrix(y_test, pred_most_frequent))\n",
    "print(\"\\n<Dummy model> strategy:\")\n",
    "print(confusion_matrix(y_test, pred_dummy))\n",
    "print(\"\\n<Tree model> strategy:\")\n",
    "print(confusion_matrix(y_test, pred_tree))"
   ]
  },
  {
   "cell_type": "markdown",
   "id": "prime-superior",
   "metadata": {},
   "source": [
    "^ Only tree model among given alternatives shows a decent ish correctness. But still logreg was better."
   ]
  }
 ],
 "metadata": {
  "kernelspec": {
   "display_name": "Python 3",
   "language": "python",
   "name": "python3"
  },
  "language_info": {
   "codemirror_mode": {
    "name": "ipython",
    "version": 3
   },
   "file_extension": ".py",
   "mimetype": "text/x-python",
   "name": "python",
   "nbconvert_exporter": "python",
   "pygments_lexer": "ipython3",
   "version": "3.8.10"
  }
 },
 "nbformat": 4,
 "nbformat_minor": 5
}
