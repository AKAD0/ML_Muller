{
 "cells": [
  {
   "cell_type": "markdown",
   "id": "naval-longitude",
   "metadata": {},
   "source": [
    "# Chapter 5. Model evaluation and enhancement.\n",
    "# Part 3. Quality metrics.\n",
    "R^2 for regressions and accuracy for classificators sometimes are not the metrics that really needed. Thus there are more.\n",
    "\n",
    "2 types of errors:\n",
    "\n",
    "1) False-positive\n",
    "\n",
    "2) False-negative\n",
    "\n",
    "Accuracy is NOT an adequate metric for evaluating model prognostic ability fitted over unbalanced datasets."
   ]
  },
  {
   "cell_type": "markdown",
   "id": "defensive-woman",
   "metadata": {},
   "source": [
    "## - Confusion Matrices\n",
    "One of the most qualitative methods to evaluate model's prognostic ability"
   ]
  },
  {
   "cell_type": "code",
   "execution_count": 14,
   "id": "spectacular-fabric",
   "metadata": {
    "scrolled": true
   },
   "outputs": [
    {
     "name": "stdout",
     "output_type": "stream",
     "text": [
      "Confusion matrix: \n",
      "[[402   1]\n",
      " [  6  41]]\n"
     ]
    },
    {
     "name": "stderr",
     "output_type": "stream",
     "text": [
      "/home/akado/.local/lib/python3.8/site-packages/sklearn/linear_model/_logistic.py:763: ConvergenceWarning: lbfgs failed to converge (status=1):\n",
      "STOP: TOTAL NO. of ITERATIONS REACHED LIMIT.\n",
      "\n",
      "Increase the number of iterations (max_iter) or scale the data as shown in:\n",
      "    https://scikit-learn.org/stable/modules/preprocessing.html\n",
      "Please also refer to the documentation for alternative solver options:\n",
      "    https://scikit-learn.org/stable/modules/linear_model.html#logistic-regression\n",
      "  n_iter_i = _check_optimize_result(\n"
     ]
    }
   ],
   "source": [
    "from sklearn.linear_model import LogisticRegression\n",
    "from sklearn.datasets import load_digits\n",
    "from sklearn.model_selection import train_test_split\n",
    "from sklearn.metrics import confusion_matrix\n",
    "\n",
    "#-----setting up\n",
    "#--loading dataset\n",
    "digits = load_digits()\n",
    "#'== 9' means that dataset will have only one forecasting class\n",
    "y = digits.target == 9\n",
    "X_train, X_test, y_train, y_test = train_test_split(digits.data, y, random_state=0)\n",
    "\n",
    "#initialization, builidng and applying logreg\n",
    "logreg = LogisticRegression(C=0.2).fit(X_train, y_train)\n",
    "pred_logreg = logreg.predict(X_test)\n",
    "\n",
    "#-----applying confusion matrix\n",
    "confusion = confusion_matrix(y_test, pred_logreg)\n",
    "print('Confusion matrix: \\n{}'.format(confusion))"
   ]
  },
  {
   "cell_type": "markdown",
   "id": "liked-transcription",
   "metadata": {},
   "source": [
    "^ Gain array means following:\n",
    "\n",
    "Number of rows (2): There were 2 actual classes and each row represents one of them\n",
    "\n",
    "Number of columns (2): Forecated 2 classes and each column represents one of them\n",
    "\n",
    "Main diagonal represents number of correctly forecasted samples\n",
    "\n",
    "Rest of elements represents numbers of mistakes"
   ]
  },
  {
   "cell_type": "markdown",
   "id": "motivated-design",
   "metadata": {},
   "source": [
    "#### Some examples for alternative models:\n",
    "These models show nice accuracy but considering the unbalanced dataset they were trained on AND the very incorrect specifics of some of them, there IS a need of using another metrics like confusion matrix to check the actual prognostic ability."
   ]
  },
  {
   "cell_type": "code",
   "execution_count": 15,
   "id": "compatible-chapter",
   "metadata": {},
   "outputs": [
    {
     "name": "stdout",
     "output_type": "stream",
     "text": [
      "<Most frequent> strategy:\n",
      "[[403   0]\n",
      " [ 47   0]]\n",
      "\n",
      "<Dummy model> strategy:\n",
      "[[403   0]\n",
      " [ 47   0]]\n",
      "\n",
      "<Tree model> strategy:\n",
      "[[390  13]\n",
      " [ 24  23]]\n"
     ]
    }
   ],
   "source": [
    "from sklearn.dummy import DummyClassifier\n",
    "from sklearn.tree import DecisionTreeClassifier\n",
    "\n",
    "#-----setting up models\n",
    "#strategy - most frequent class preferring\n",
    "dummy_majority = DummyClassifier(strategy='most_frequent').fit(X_train, y_train)\n",
    "pred_most_frequent = dummy_majority.predict(X_test)\n",
    "\n",
    "#strategy - tree model\n",
    "tree = DecisionTreeClassifier(max_depth=2).fit(X_train, y_train)\n",
    "pred_tree = tree.predict(X_test)\n",
    "\n",
    "#strategy - dummies model\n",
    "dummy = DummyClassifier().fit(X_train, y_train)\n",
    "pred_dummy = dummy.predict(X_test)\n",
    "\n",
    "#model's quality check\n",
    "print(\"<Most frequent> strategy:\")\n",
    "print(confusion_matrix(y_test, pred_most_frequent))\n",
    "print(\"\\n<Dummy model> strategy:\")\n",
    "print(confusion_matrix(y_test, pred_dummy))\n",
    "print(\"\\n<Tree model> strategy:\")\n",
    "print(confusion_matrix(y_test, pred_tree))"
   ]
  },
  {
   "cell_type": "markdown",
   "id": "prime-superior",
   "metadata": {},
   "source": [
    "^ Only tree model among given alternatives shows a decent ish correctness. But still logreg was better."
   ]
  },
  {
   "cell_type": "markdown",
   "id": "killing-blood",
   "metadata": {},
   "source": [
    "## - Precision, recall, F-measure\n",
    "Precision, recall and F-measure are another metrics (apart from correctness) to evaluate specifics of prognostication ability."
   ]
  },
  {
   "cell_type": "markdown",
   "id": "eastern-preparation",
   "metadata": {},
   "source": [
    "Precision. It's high if all Prognosed Positive samples are True.\n",
    "\n",
    "Precision = TP / (TP + FP)"
   ]
  },
  {
   "cell_type": "markdown",
   "id": "statutory-preserve",
   "metadata": {},
   "source": [
    "Recall. It's high if all Actual Positive samples are covered.\n",
    "\n",
    "Recall = TP / (TP + FN)"
   ]
  },
  {
   "cell_type": "markdown",
   "id": "disturbed-fence",
   "metadata": {},
   "source": [
    "F-measure. It's high if there's a compromise between Precision and Recall.\n",
    "\n",
    "F-measure = 2(Precision*Recall) / (Precision+Recall)"
   ]
  },
  {
   "cell_type": "code",
   "execution_count": 16,
   "id": "opponent-tomorrow",
   "metadata": {},
   "outputs": [
    {
     "name": "stdout",
     "output_type": "stream",
     "text": [
      "MosFreq F-measure: 0.0\n",
      "Dummy F-measure: 0.0\n",
      "Tree F-measure: 0.5542168674698795\n",
      "Logreg F-measure: 0.9213483146067415\n"
     ]
    }
   ],
   "source": [
    "from sklearn.metrics import f1_score\n",
    "print('MosFreq F-measure: {}'.format(f1_score(y_test, pred_most_frequent)))\n",
    "print('Dummy F-measure: {}'.format(f1_score(y_test, pred_dummy)))\n",
    "print('Tree F-measure: {}'.format(f1_score(y_test, pred_tree)))\n",
    "print('Logreg F-measure: {}'.format(f1_score(y_test, pred_logreg)))\n"
   ]
  },
  {
   "cell_type": "markdown",
   "id": "paperback-naples",
   "metadata": {},
   "source": [
    "^ It's clear that LogReg only has a decent prognostication ability."
   ]
  },
  {
   "cell_type": "markdown",
   "id": "alleged-singer",
   "metadata": {},
   "source": [
    "There's another tool to get reports with pronostication ability analysis:"
   ]
  },
  {
   "cell_type": "code",
   "execution_count": 17,
   "id": "blocked-assessment",
   "metadata": {
    "scrolled": true
   },
   "outputs": [
    {
     "name": "stdout",
     "output_type": "stream",
     "text": [
      "- MostFreq report:\n",
      "              precision    recall  f1-score   support\n",
      "\n",
      "  not-a-nine       0.90      1.00      0.94       403\n",
      "      a-nine       0.00      0.00      0.00        47\n",
      "\n",
      "    accuracy                           0.90       450\n",
      "   macro avg       0.45      0.50      0.47       450\n",
      "weighted avg       0.80      0.90      0.85       450\n",
      "\n",
      "\n",
      "- Dummy report:\n",
      "              precision    recall  f1-score   support\n",
      "\n",
      "  not-a-nine       0.90      1.00      0.94       403\n",
      "      a-nine       0.00      0.00      0.00        47\n",
      "\n",
      "    accuracy                           0.90       450\n",
      "   macro avg       0.45      0.50      0.47       450\n",
      "weighted avg       0.80      0.90      0.85       450\n",
      "\n",
      "\n",
      "- LogReg report:\n",
      "              precision    recall  f1-score   support\n",
      "\n",
      "  not-a-nine       0.99      1.00      0.99       403\n",
      "      a-nine       0.98      0.87      0.92        47\n",
      "\n",
      "    accuracy                           0.98       450\n",
      "   macro avg       0.98      0.93      0.96       450\n",
      "weighted avg       0.98      0.98      0.98       450\n",
      "\n"
     ]
    },
    {
     "name": "stderr",
     "output_type": "stream",
     "text": [
      "/home/akado/.local/lib/python3.8/site-packages/sklearn/metrics/_classification.py:1245: UndefinedMetricWarning: Precision and F-score are ill-defined and being set to 0.0 in labels with no predicted samples. Use `zero_division` parameter to control this behavior.\n",
      "  _warn_prf(average, modifier, msg_start, len(result))\n",
      "/home/akado/.local/lib/python3.8/site-packages/sklearn/metrics/_classification.py:1245: UndefinedMetricWarning: Precision and F-score are ill-defined and being set to 0.0 in labels with no predicted samples. Use `zero_division` parameter to control this behavior.\n",
      "  _warn_prf(average, modifier, msg_start, len(result))\n",
      "/home/akado/.local/lib/python3.8/site-packages/sklearn/metrics/_classification.py:1245: UndefinedMetricWarning: Precision and F-score are ill-defined and being set to 0.0 in labels with no predicted samples. Use `zero_division` parameter to control this behavior.\n",
      "  _warn_prf(average, modifier, msg_start, len(result))\n",
      "/home/akado/.local/lib/python3.8/site-packages/sklearn/metrics/_classification.py:1245: UndefinedMetricWarning: Precision and F-score are ill-defined and being set to 0.0 in labels with no predicted samples. Use `zero_division` parameter to control this behavior.\n",
      "  _warn_prf(average, modifier, msg_start, len(result))\n",
      "/home/akado/.local/lib/python3.8/site-packages/sklearn/metrics/_classification.py:1245: UndefinedMetricWarning: Precision and F-score are ill-defined and being set to 0.0 in labels with no predicted samples. Use `zero_division` parameter to control this behavior.\n",
      "  _warn_prf(average, modifier, msg_start, len(result))\n",
      "/home/akado/.local/lib/python3.8/site-packages/sklearn/metrics/_classification.py:1245: UndefinedMetricWarning: Precision and F-score are ill-defined and being set to 0.0 in labels with no predicted samples. Use `zero_division` parameter to control this behavior.\n",
      "  _warn_prf(average, modifier, msg_start, len(result))\n"
     ]
    }
   ],
   "source": [
    "from sklearn.metrics import classification_report\n",
    "\n",
    "print('- MostFreq report:')\n",
    "print(classification_report(y_test, pred_most_frequent, target_names=['not-a-nine','a-nine']))\n",
    "print()\n",
    "print('- Dummy report:')\n",
    "print(classification_report(y_test, pred_dummy, target_names=['not-a-nine','a-nine']))\n",
    "print()\n",
    "print('- LogReg report:')\n",
    "print(classification_report(y_test, pred_logreg, target_names=['not-a-nine','a-nine']))"
   ]
  },
  {
   "cell_type": "markdown",
   "id": "interim-printer",
   "metadata": {},
   "source": [
    "^ Again, it's clear that LogReg only has a decent prognostication ability since this model is the only one with high F-measure for both classes."
   ]
  },
  {
   "cell_type": "markdown",
   "id": "banner-aviation",
   "metadata": {},
   "source": [
    "## - Uncertainty accounting.\n",
    "Instead of refitting model each time there's a need to shift decision border, it's more convenient to adjust threshold for uncertainty values of vanilla 'y's to get adjusted 'y's."
   ]
  },
  {
   "cell_type": "markdown",
   "id": "owned-arthritis",
   "metadata": {},
   "source": [
    "Vanilla model:"
   ]
  },
  {
   "cell_type": "code",
   "execution_count": 20,
   "id": "taken-traffic",
   "metadata": {},
   "outputs": [
    {
     "name": "stdout",
     "output_type": "stream",
     "text": [
      "              precision    recall  f1-score   support\n",
      "\n",
      "           0       0.97      0.89      0.93       104\n",
      "           1       0.35      0.67      0.46         9\n",
      "\n",
      "    accuracy                           0.88       113\n",
      "   macro avg       0.66      0.78      0.70       113\n",
      "weighted avg       0.92      0.88      0.89       113\n",
      "\n"
     ]
    },
    {
     "name": "stderr",
     "output_type": "stream",
     "text": [
      "/home/akado/.local/lib/python3.8/site-packages/sklearn/utils/deprecation.py:86: FutureWarning: Function make_blobs is deprecated; Please import make_blobs directly from scikit-learn\n",
      "  warnings.warn(msg, category=FutureWarning)\n"
     ]
    }
   ],
   "source": [
    "from mglearn.datasets import make_blobs\n",
    "from sklearn.svm import SVC\n",
    "\n",
    "#setup\n",
    "X, y = make_blobs(n_samples=(400, 50), centers=2, cluster_std=[7.0, 2], random_state=22)\n",
    "X_train, X_test, y_train, y_test = train_test_split(X, y, random_state=0)\n",
    "svc = SVC(gamma=0.05).fit(X_train, y_train)\n",
    "\n",
    "#prognostication ability report\n",
    "print(classification_report(y_test, svc.predict(X_test)))"
   ]
  },
  {
   "cell_type": "markdown",
   "id": "appreciated-director",
   "metadata": {},
   "source": [
    "^ For '1' class precision is bad and recall is mediocre. The task here would be increasing recall metric."
   ]
  },
  {
   "cell_type": "markdown",
   "id": "aware-former",
   "metadata": {},
   "source": [
    "Adjusting threshold for uncertainty values:"
   ]
  },
  {
   "cell_type": "code",
   "execution_count": 22,
   "id": "about-mistake",
   "metadata": {},
   "outputs": [
    {
     "name": "stdout",
     "output_type": "stream",
     "text": [
      "              precision    recall  f1-score   support\n",
      "\n",
      "           0       1.00      0.82      0.90       104\n",
      "           1       0.32      1.00      0.49         9\n",
      "\n",
      "    accuracy                           0.83       113\n",
      "   macro avg       0.66      0.91      0.69       113\n",
      "weighted avg       0.95      0.83      0.87       113\n",
      "\n"
     ]
    }
   ],
   "source": [
    "y_pred_lower_threshold = svc.decision_function(X_test) > -0.8\n",
    "\n",
    "#prognostication ability report\n",
    "print(classification_report(y_test, y_pred_lower_threshold))"
   ]
  },
  {
   "cell_type": "markdown",
   "id": "rental-alarm",
   "metadata": {},
   "source": [
    "^ Recall metric became perfect."
   ]
  }
 ],
 "metadata": {
  "kernelspec": {
   "display_name": "Python 3",
   "language": "python",
   "name": "python3"
  },
  "language_info": {
   "codemirror_mode": {
    "name": "ipython",
    "version": 3
   },
   "file_extension": ".py",
   "mimetype": "text/x-python",
   "name": "python",
   "nbconvert_exporter": "python",
   "pygments_lexer": "ipython3",
   "version": "3.8.10"
  }
 },
 "nbformat": 4,
 "nbformat_minor": 5
}
