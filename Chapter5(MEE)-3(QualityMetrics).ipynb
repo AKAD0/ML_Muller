{
 "cells": [
  {
   "cell_type": "markdown",
   "id": "naval-longitude",
   "metadata": {},
   "source": [
    "# Chapter 5. Model evaluation and enhancement.\n",
    "# Part 3. Quality metrics.\n",
    "R^2 for regressions and accuracy for classificators sometimes are not the metrics that really needed. Thus there are more.\n",
    "\n",
    "2 types of errors:\n",
    "\n",
    "1) False-positive\n",
    "\n",
    "2) False-negative\n",
    "\n",
    "Accuracy is NOT an adequate metric for evaluating model prognostic ability fitted over unbalanced datasets."
   ]
  },
  {
   "cell_type": "code",
   "execution_count": null,
   "id": "inside-obligation",
   "metadata": {},
   "outputs": [],
   "source": []
  }
 ],
 "metadata": {
  "kernelspec": {
   "display_name": "Python 3",
   "language": "python",
   "name": "python3"
  },
  "language_info": {
   "codemirror_mode": {
    "name": "ipython",
    "version": 3
   },
   "file_extension": ".py",
   "mimetype": "text/x-python",
   "name": "python",
   "nbconvert_exporter": "python",
   "pygments_lexer": "ipython3",
   "version": "3.8.10"
  }
 },
 "nbformat": 4,
 "nbformat_minor": 5
}
