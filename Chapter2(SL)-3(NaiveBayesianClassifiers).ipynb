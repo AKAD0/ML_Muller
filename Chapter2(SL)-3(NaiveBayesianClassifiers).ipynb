{
 "cells": [
  {
   "cell_type": "markdown",
   "id": "qualified-gather",
   "metadata": {},
   "source": [
    "# Chapter 2. Supervised Learning methods.\n",
    "# Part 3. Naive Bayesian Classifiers."
   ]
  },
  {
   "cell_type": "markdown",
   "id": "acceptable-venice",
   "metadata": {},
   "source": [
    "NBC is much faster but less accurate.\n",
    "It calculates simple frequency statistics for each feature by class.\n",
    "\n",
    "There's 3 NBC types: GaussianNB, BernoulliNB and MultinomialNB:\n",
    "\n",
    "1) GaussianNB is for rational data\n",
    "\n",
    "2) BernoulliNB is for binary data\n",
    "\n",
    "3) MultinomialNB is for count (discrete) data"
   ]
  },
  {
   "cell_type": "markdown",
   "id": "ideal-cologne",
   "metadata": {},
   "source": [
    "## BernoulliNB's feature frequencies calculating principle:"
   ]
  },
  {
   "cell_type": "code",
   "execution_count": 11,
   "id": "polar-gibraltar",
   "metadata": {},
   "outputs": [
    {
     "name": "stdout",
     "output_type": "stream",
     "text": [
      "Feature frequencies:\n",
      "{0: array([0, 1, 0, 2]), 1: array([2, 0, 2, 1])}\n"
     ]
    }
   ],
   "source": [
    "import numpy as np\n",
    "#dataset loading\n",
    "X = np.array([[0,1,0,1],\n",
    "              [1,0,1,1],\n",
    "              [0,0,0,1],\n",
    "              [1,0,1,0]])\n",
    "y = np.array([0,1,0,1])\n",
    "\n",
    "#counting frequencies:\n",
    "counts = {}\n",
    "#iterations by class\n",
    "for label in np.unique(y):\n",
    "    #counting '1' by each feature\n",
    "    counts[label] = X[y == label].sum(axis=0)\n",
    "print('Feature frequencies:\\n{}'.format(counts))"
   ]
  },
  {
   "cell_type": "markdown",
   "id": "hidden-journalism",
   "metadata": {},
   "source": [
    "Prognostication is got by comparison of class statistic with sample values. Sample class defines to class with more suitable class statistics."
   ]
  }
 ],
 "metadata": {
  "kernelspec": {
   "display_name": "Python 3",
   "language": "python",
   "name": "python3"
  },
  "language_info": {
   "codemirror_mode": {
    "name": "ipython",
    "version": 3
   },
   "file_extension": ".py",
   "mimetype": "text/x-python",
   "name": "python",
   "nbconvert_exporter": "python",
   "pygments_lexer": "ipython3",
   "version": "3.8.5"
  }
 },
 "nbformat": 4,
 "nbformat_minor": 5
}
