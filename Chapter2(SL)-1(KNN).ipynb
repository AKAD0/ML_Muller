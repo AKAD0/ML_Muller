{
 "cells": [
  {
   "cell_type": "markdown",
   "id": "invisible-interpretation",
   "metadata": {},
   "source": [
    "# Chapter 2. Supervised Learning methods.\n",
    "# Part 1. KNN method."
   ]
  },
  {
   "cell_type": "markdown",
   "id": "alternate-transcript",
   "metadata": {},
   "source": [
    "## - Some datasets"
   ]
  },
  {
   "cell_type": "code",
   "execution_count": 1,
   "id": "novel-repeat",
   "metadata": {},
   "outputs": [],
   "source": [
    "import numpy as np\n",
    "import pandas as pd\n",
    "import matplotlib.pyplot as plt\n",
    "import mglearn"
   ]
  },
  {
   "cell_type": "markdown",
   "id": "gothic-effect",
   "metadata": {},
   "source": [
    "## Forge dataset (artificial)"
   ]
  },
  {
   "cell_type": "code",
   "execution_count": 2,
   "id": "favorite-temperature",
   "metadata": {},
   "outputs": [
    {
     "name": "stderr",
     "output_type": "stream",
     "text": [
      "/home/akado/.local/lib/python3.8/site-packages/sklearn/utils/deprecation.py:86: FutureWarning: Function make_blobs is deprecated; Please import make_blobs directly from scikit-learn\n",
      "  warnings.warn(msg, category=FutureWarning)\n"
     ]
    },
    {
     "data": {
      "text/plain": [
       "(26, 2)"
      ]
     },
     "execution_count": 2,
     "metadata": {},
     "output_type": "execute_result"
    }
   ],
   "source": [
    "#taking datasets\n",
    "X, y = mglearn.datasets.make_forge()\n",
    "X.shape"
   ]
  },
  {
   "cell_type": "code",
   "execution_count": 3,
   "id": "patent-practitioner",
   "metadata": {
    "scrolled": true
   },
   "outputs": [
    {
     "data": {
      "text/plain": [
       "Text(0, 0.5, 'Second feature')"
      ]
     },
     "execution_count": 3,
     "metadata": {},
     "output_type": "execute_result"
    },
    {
     "data": {
      "image/png": "[encoded data removed]",
      "text/plain": [
       "<Figure size 432x288 with 1 Axes>"
      ]
     },
     "metadata": {
      "needs_background": "light"
     },
     "output_type": "display_data"
    }
   ],
   "source": [
    "#building plot\n",
    "#%matplotlib inline #allows to add plots to the browser inteface\n",
    "mglearn.discrete_scatter(X[:, 0], X[:, 1], y) #plot building\n",
    "\n",
    "plt.legend([\"1st Class\", \"2nd Class\"], loc=4) #legend\n",
    "plt.xlabel(\"First feature\")\n",
    "plt.ylabel(\"Second feature\")"
   ]
  },
  {
   "cell_type": "markdown",
   "id": "impressive-polyester",
   "metadata": {},
   "source": [
    "## Wave dataset (artificial)"
   ]
  },
  {
   "cell_type": "code",
   "execution_count": 4,
   "id": "opposite-pressure",
   "metadata": {},
   "outputs": [
    {
     "data": {
      "text/plain": [
       "(40, 1)"
      ]
     },
     "execution_count": 4,
     "metadata": {},
     "output_type": "execute_result"
    }
   ],
   "source": [
    "#taking datasets\n",
    "X, y = mglearn.datasets.make_wave(n_samples =40)\n",
    "X.shape"
   ]
  },
  {
   "cell_type": "code",
   "execution_count": 5,
   "id": "sophisticated-mumbai",
   "metadata": {},
   "outputs": [
    {
     "data": {
      "text/plain": [
       "Text(0, 0.5, 'Target value')"
      ]
     },
     "execution_count": 5,
     "metadata": {},
     "output_type": "execute_result"
    },
    {
     "data": {
      "image/png": "[encoded data removed]",
      "text/plain": [
       "<Figure size 432x288 with 1 Axes>"
      ]
     },
     "metadata": {
      "needs_background": "light"
     },
     "output_type": "display_data"
    }
   ],
   "source": [
    "#building plot\n",
    "plt.plot(X, y, 'o')\n",
    "\n",
    "plt.xlabel(\"Feature\")\n",
    "plt.ylabel(\"Target value\")"
   ]
  },
  {
   "cell_type": "markdown",
   "id": "romantic-church",
   "metadata": {},
   "source": [
    "## Cancer dataset (natural)"
   ]
  },
  {
   "cell_type": "code",
   "execution_count": 6,
   "id": "random-chess",
   "metadata": {},
   "outputs": [],
   "source": [
    "from sklearn.datasets import load_breast_cancer\n",
    "cancer = load_breast_cancer()"
   ]
  },
  {
   "cell_type": "code",
   "execution_count": 7,
   "id": "immune-reducing",
   "metadata": {},
   "outputs": [
    {
     "name": "stdout",
     "output_type": "stream",
     "text": [
      "dict_keys(['data', 'target', 'frame', 'target_names', 'DESCR', 'feature_names', 'filename'])\n",
      "(569, 30)\n",
      "['mean radius' 'mean texture' 'mean perimeter' 'mean area'\n",
      " 'mean smoothness' 'mean compactness' 'mean concavity'\n",
      " 'mean concave points' 'mean symmetry' 'mean fractal dimension'\n",
      " 'radius error' 'texture error' 'perimeter error' 'area error'\n",
      " 'smoothness error' 'compactness error' 'concavity error'\n",
      " 'concave points error' 'symmetry error' 'fractal dimension error'\n",
      " 'worst radius' 'worst texture' 'worst perimeter' 'worst area'\n",
      " 'worst smoothness' 'worst compactness' 'worst concavity'\n",
      " 'worst concave points' 'worst symmetry' 'worst fractal dimension']\n"
     ]
    }
   ],
   "source": [
    "print(cancer.keys())\n",
    "print(cancer.data.shape)\n",
    "print(cancer.feature_names)"
   ]
  },
  {
   "cell_type": "code",
   "execution_count": 8,
   "id": "assigned-active",
   "metadata": {},
   "outputs": [
    {
     "data": {
      "text/plain": [
       "{'malignant': 212, 'benign': 357}"
      ]
     },
     "execution_count": 8,
     "metadata": {},
     "output_type": "execute_result"
    }
   ],
   "source": [
    "#building a hash table to examine dataset\n",
    "{n: v for n, v in zip(cancer.target_names, np.bincount(cancer.target))}"
   ]
  },
  {
   "cell_type": "markdown",
   "id": "disturbed-detector",
   "metadata": {},
   "source": [
    "## Boston Housing dataset (natural)"
   ]
  },
  {
   "cell_type": "code",
   "execution_count": 9,
   "id": "unsigned-foster",
   "metadata": {},
   "outputs": [],
   "source": [
    "from sklearn.datasets import load_boston\n",
    "boston = load_boston()"
   ]
  },
  {
   "cell_type": "code",
   "execution_count": 10,
   "id": "optical-disposition",
   "metadata": {},
   "outputs": [
    {
     "name": "stdout",
     "output_type": "stream",
     "text": [
      "dict_keys(['data', 'target', 'feature_names', 'DESCR', 'filename'])\n",
      "(506, 13)\n"
     ]
    }
   ],
   "source": [
    "print(boston.keys())\n",
    "print(boston.data.shape)"
   ]
  },
  {
   "cell_type": "markdown",
   "id": "maritime-certification",
   "metadata": {},
   "source": [
    "## Boston Housing extended dataset (natural)"
   ]
  },
  {
   "cell_type": "code",
   "execution_count": 11,
   "id": "spectacular-parks",
   "metadata": {},
   "outputs": [
    {
     "data": {
      "text/plain": [
       "(506, 104)"
      ]
     },
     "execution_count": 11,
     "metadata": {},
     "output_type": "execute_result"
    }
   ],
   "source": [
    "X, y = mglearn.datasets.load_extended_boston()\n",
    "\n",
    "#104 features are previous 13 default features...\n",
    "#...plus 91 derivative features\n",
    "X.shape"
   ]
  },
  {
   "cell_type": "markdown",
   "id": "legislative-thread",
   "metadata": {},
   "source": [
    "## - KNN Classifier. Analysis."
   ]
  },
  {
   "cell_type": "markdown",
   "id": "gentle-halifax",
   "metadata": {},
   "source": [
    "## model implementation"
   ]
  },
  {
   "cell_type": "code",
   "execution_count": 12,
   "id": "genuine-startup",
   "metadata": {},
   "outputs": [
    {
     "name": "stdout",
     "output_type": "stream",
     "text": [
      "[1 0 1 0 1 0 0]\n"
     ]
    },
    {
     "name": "stderr",
     "output_type": "stream",
     "text": [
      "/home/akado/.local/lib/python3.8/site-packages/sklearn/utils/deprecation.py:86: FutureWarning: Function make_blobs is deprecated; Please import make_blobs directly from scikit-learn\n",
      "  warnings.warn(msg, category=FutureWarning)\n"
     ]
    },
    {
     "data": {
      "text/plain": [
       "0.8571428571428571"
      ]
     },
     "execution_count": 12,
     "metadata": {},
     "output_type": "execute_result"
    }
   ],
   "source": [
    "#-----model initialization\n",
    "#import dataset and split to learning and test sets\n",
    "from sklearn.model_selection import train_test_split\n",
    "X, y = mglearn.datasets.make_forge()\n",
    "X_train, X_test, y_train, y_test = train_test_split(X, y, random_state=0)\n",
    "\n",
    "#import model class and creating a class object\n",
    "from sklearn.neighbors import KNeighborsClassifier\n",
    "clf = KNeighborsClassifier(n_neighbors=3)\n",
    "\n",
    "#building model\n",
    "clf.fit(X_train, y_train)\n",
    "\n",
    "#-----model validation\n",
    "#prognostication\n",
    "print(clf.predict(X_test))\n",
    "\n",
    "#accuracy check\n",
    "clf.score(X_test,y_test)"
   ]
  },
  {
   "cell_type": "markdown",
   "id": "decreased-perth",
   "metadata": {},
   "source": [
    "## Analysis. Difference between decision boundaries depending on model complexity"
   ]
  },
  {
   "cell_type": "code",
   "execution_count": 13,
   "id": "english-behavior",
   "metadata": {},
   "outputs": [
    {
     "data": {
      "text/plain": [
       "<matplotlib.legend.Legend at 0x7ff422e9c2e0>"
      ]
     },
     "execution_count": 13,
     "metadata": {},
     "output_type": "execute_result"
    },
    {
     "data": {
      "image/png": "[encoded data removed]",
      "text/plain": [
       "<Figure size 720x216 with 3 Axes>"
      ]
     },
     "metadata": {},
     "output_type": "display_data"
    }
   ],
   "source": [
    "#-----desision boundary visualization for 1, 3 and 9 neighbors.\n",
    "#creating figure and axes\n",
    "fig, axes = plt.subplots(1, 3, figsize=(10,3))\n",
    "\n",
    "#creating classificator objects and their plots\n",
    "for n_neighbors, ax in zip([1,3,9], axes):\n",
    "    #model initialization and building\n",
    "    clf = KNeighborsClassifier(n_neighbors=n_neighbors).fit(X, y)\n",
    "    #rendering labeled areas in axes\n",
    "    mglearn.plots.plot_2d_separator(clf, X, fill=True, eps=0.5, alpha=0.5, ax=ax)\n",
    "    #render samples in axes\n",
    "    mglearn.discrete_scatter(X[:, 0], X[:, 1], y, ax=ax)\n",
    "    ax.set_title(\"neighbors count:{}\".format(n_neighbors))\n",
    "    ax.set_xlabel(\"feature 0\")\n",
    "    ax.set_ylabel(\"feature 1\")\n",
    "axes[0].legend(loc=3)"
   ]
  },
  {
   "cell_type": "markdown",
   "id": "norwegian-think",
   "metadata": {},
   "source": [
    "## Analysis. Influence of model complexity on generalization ability"
   ]
  },
  {
   "cell_type": "code",
   "execution_count": 14,
   "id": "young-interval",
   "metadata": {},
   "outputs": [
    {
     "data": {
      "text/plain": [
       "<matplotlib.legend.Legend at 0x7ff422e1bb80>"
      ]
     },
     "execution_count": 14,
     "metadata": {},
     "output_type": "execute_result"
    },
    {
     "data": {
      "image/png": "[encoded data removed]",
      "text/plain": [
       "<Figure size 432x288 with 1 Axes>"
      ]
     },
     "metadata": {
      "needs_background": "light"
     },
     "output_type": "display_data"
    }
   ],
   "source": [
    "from sklearn.datasets import load_breast_cancer\n",
    "\n",
    "#loading dataset\n",
    "cancer = load_breast_cancer()\n",
    "#splitting dataset on train and test sets\n",
    "#argument 'stratify' keeps the proportions of gain set...\n",
    "#...for resulting set\n",
    "X_train, X_test, y_train, y_test = train_test_split(cancer.data, cancer.target, stratify=cancer.target, random_state=66)\n",
    "\n",
    "training_accuracy = []\n",
    "test_accuracy = []\n",
    "#checking n_neighbors from 1 to 10\n",
    "neighbors_settings = range(1,11)\n",
    "\n",
    "#creating classificator objects\n",
    "for n_neighbors in neighbors_settings:\n",
    "    #model initialization and building\n",
    "    clf = KNeighborsClassifier(n_neighbors=n_neighbors).fit(X_train, y_train)\n",
    "    #adding gain train accuracies to the array\n",
    "    training_accuracy.append(clf.score(X_train, y_train))\n",
    "    #adding gain test accuracies to the array\n",
    "    test_accuracy.append(clf.score(X_test, y_test))    \n",
    "\n",
    "plt.plot(neighbors_settings, training_accuracy, label=\"train set accuracy\")\n",
    "plt.plot(neighbors_settings, test_accuracy, label=\"test set accuracy\")\n",
    "plt.ylabel(\"Accuracy\")\n",
    "plt.xlabel(\"Count of neighbors\")\n",
    "plt.legend()"
   ]
  },
  {
   "cell_type": "markdown",
   "id": "seven-handle",
   "metadata": {},
   "source": [
    "## - KNN regressor. Analysis."
   ]
  },
  {
   "cell_type": "markdown",
   "id": "interior-trial",
   "metadata": {},
   "source": [
    "## Model implementation"
   ]
  },
  {
   "cell_type": "code",
   "execution_count": 15,
   "id": "found-outline",
   "metadata": {},
   "outputs": [
    {
     "data": {
      "text/plain": [
       "0.8344172446249605"
      ]
     },
     "execution_count": 15,
     "metadata": {},
     "output_type": "execute_result"
    }
   ],
   "source": [
    "#importing regressor class\n",
    "from sklearn.neighbors import KNeighborsRegressor\n",
    "\n",
    "#loading dataset\n",
    "X, y = mglearn.datasets.make_wave(n_samples=40)\n",
    "#splitting dataset on train and test sets\n",
    "X_train, X_test, y_train, y_test = train_test_split(X, y, random_state=0)\n",
    "\n",
    "#creating model object\n",
    "reg = KNeighborsRegressor(n_neighbors=3)\n",
    "#building model\n",
    "reg.fit(X_train, y_train)\n",
    "\n",
    "#getting prognostications\n",
    "reg.predict(X_test)\n",
    "\n",
    "#model validation\n",
    "reg.score(X_test, y_test)"
   ]
  },
  {
   "cell_type": "markdown",
   "id": "aging-powell",
   "metadata": {},
   "source": [
    "## Analysis. Influence of model complexity on generalization ability"
   ]
  },
  {
   "cell_type": "code",
   "execution_count": 16,
   "id": "periodic-gather",
   "metadata": {},
   "outputs": [
    {
     "data": {
      "text/plain": [
       "<matplotlib.legend.Legend at 0x7ff422d16160>"
      ]
     },
     "execution_count": 16,
     "metadata": {},
     "output_type": "execute_result"
    },
    {
     "data": {
      "image/png": "[encoded data removed]",
      "text/plain": [
       "<Figure size 1080x288 with 3 Axes>"
      ]
     },
     "metadata": {
      "needs_background": "light"
     },
     "output_type": "display_data"
    }
   ],
   "source": [
    "fig, axes = plt.subplots(1, 3, figsize=(15,4))\n",
    "#creating 1000 samples evenly distributed between -3 and 3...\n",
    "#...and transposing row to column\n",
    "line = np.linspace(-3, 3, 1000).reshape(-1,1)\n",
    "\n",
    "#getting prognostications for 1, 3 and 9 neighbors\n",
    "for n_neighbors, ax in zip([1,3,9], axes):\n",
    "    #creating model object\n",
    "    reg = KNeighborsRegressor(n_neighbors=n_neighbors)\n",
    "    #building model\n",
    "    reg.fit(X_train, y_train)\n",
    "    ax.plot(line, reg.predict(line))\n",
    "    ax.plot(X_train, y_train, '^', markersize=8)\n",
    "    ax.plot(X_test, y_test, \"v\", markersize=8)\n",
    "    \n",
    "    ax.set_title(\n",
    "        \"{} neighbor(s)\\n train score: {:.2f} test score: {:.2f}\".format(n_neighbors, reg.score(X_train, y_train), reg.score(X_test, y_test)))\n",
    "    ax.set_xlabel(\"feature\")\n",
    "    ax.set_ylabel(\"target value\")\n",
    "axes[0].legend([\"model prognostication\", \"train data\", \"test data\"], loc=\"best\")"
   ]
  }
 ],
 "metadata": {
  "kernelspec": {
   "display_name": "Python 3",
   "language": "python",
   "name": "python3"
  },
  "language_info": {
   "codemirror_mode": {
    "name": "ipython",
    "version": 3
   },
   "file_extension": ".py",
   "mimetype": "text/x-python",
   "name": "python",
   "nbconvert_exporter": "python",
   "pygments_lexer": "ipython3",
   "version": "3.8.5"
  }
 },
 "nbformat": 4,
 "nbformat_minor": 5
}
