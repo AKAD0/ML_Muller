{
 "cells": [
  {
   "cell_type": "markdown",
   "id": "naval-longitude",
   "metadata": {},
   "source": [
    "# Chapter 4. Feature engineering and Represeting data.\n",
    "# Part 5. Automatic Feature Selection.\n",
    "It's useful in to select the most valuable features to keep model away from being too complex.\n",
    "\n",
    "There are 3 methods to do so:\n",
    "\n",
    "1) Univariate statistics\n",
    "\n",
    "2) Model-based selection\n",
    "\n",
    "3) Iterative selection"
   ]
  },
  {
   "cell_type": "markdown",
   "id": "split-processing",
   "metadata": {},
   "source": [
    "## - Univariate Statistics\n",
    "Method finds and selects features that have the highest bond with Y by themselves only (i.e. univariative).\n",
    "\n",
    "There are 2 methods options:\n",
    "\n",
    "1) 'f_classif' for classification (used by default)\n",
    "\n",
    "2) 'f_regression' for regression\n",
    "\n",
    "Features excluding processing:\n",
    "\n",
    "1) 'SelectPercentile' by given percent\n",
    "\n",
    "2) 'SelectKB' by given number"
   ]
  },
  {
   "cell_type": "markdown",
   "id": "fitted-trash",
   "metadata": {},
   "source": [
    "The task: Restore vanilla featurespace from modified featurespace that was made by adding random features to vanilla ones."
   ]
  },
  {
   "cell_type": "markdown",
   "id": "bored-strip",
   "metadata": {},
   "source": [
    "Preparations:"
   ]
  },
  {
   "cell_type": "code",
   "execution_count": 2,
   "id": "seeing-publicity",
   "metadata": {},
   "outputs": [],
   "source": [
    "from sklearn.datasets import load_breast_cancer\n",
    "from sklearn.feature_selection import SelectPercentile\n",
    "from sklearn.model_selection import train_test_split\n",
    "from sklearn.linear_model import LogisticRegression\n",
    "import matplotlib.pyplot as plt\n",
    "import numpy as np\n",
    "\n",
    "cancer = load_breast_cancer()\n",
    "\n",
    "#random features generation\n",
    "rng = np.random.RandomState(42)\n",
    "noise = rng.normal(size=(len(cancer.data), 50))\n",
    "\n",
    "#concatenation of vanilla featurespace and random one\n",
    "X_w_noise = np.hstack([cancer.data, noise])\n",
    "\n",
    "#splitting gain dataset\n",
    "X_train, X_test, y_train, y_test = train_test_split(X_w_noise, cancer.target, random_state=0, test_size=0.5)"
   ]
  },
  {
   "cell_type": "markdown",
   "id": "premier-dayton",
   "metadata": {},
   "source": [
    "Applying feature selecting:"
   ]
  },
  {
   "cell_type": "code",
   "execution_count": 3,
   "id": "hungarian-coaching",
   "metadata": {},
   "outputs": [
    {
     "name": "stdout",
     "output_type": "stream",
     "text": [
      "X_train shape: (284, 80)\n",
      "X_train_selected shape: (284, 40)\n",
      "[ True  True  True  True  True  True  True  True  True False  True False\n",
      "  True  True  True  True  True  True False False  True  True  True  True\n",
      "  True  True  True  True  True  True False False False  True False  True\n",
      " False False  True False False False False  True False False  True False\n",
      " False  True False  True False False False False False False  True False\n",
      "  True False False False False  True False  True False False False False\n",
      "  True  True False  True False False False False]\n"
     ]
    },
    {
     "data": {
      "text/plain": [
       "Text(0.5, 0, 'feature index')"
      ]
     },
     "execution_count": 3,
     "metadata": {},
     "output_type": "execute_result"
    },
    {
     "data": {
      "image/png": "[encoded data removed]",
      "text/plain": [
       "<Figure size 1152x144 with 1 Axes>"
      ]
     },
     "metadata": {
      "needs_background": "light"
     },
     "output_type": "display_data"
    }
   ],
   "source": [
    "#-----initialization, building and applying selector\n",
    "#'f_classif' (as default) and 'SelectPercentile' (50%)\n",
    "select = SelectPercentile(percentile=50).fit(X_train, y_train)\n",
    "X_train_selected = select.transform(X_train)\n",
    "\n",
    "print('X_train shape: {}'.format(X_train.shape))\n",
    "print('X_train_selected shape: {}'.format(X_train_selected.shape))\n",
    "\n",
    "#-----selected features visualization\n",
    "#'get_support()' shows booleanly selected and excluded features\n",
    "mask = select.get_support()\n",
    "print(mask)\n",
    "#visualization\n",
    "plt.matshow(mask.reshape(1,-1))\n",
    "plt.xlabel('feature index')"
   ]
  },
  {
   "cell_type": "markdown",
   "id": "subjective-cancellation",
   "metadata": {},
   "source": [
    "^ The most random features were excluded (quality though isn't great)"
   ]
  },
  {
   "cell_type": "markdown",
   "id": "suffering-tsunami",
   "metadata": {},
   "source": [
    "Comparison of models accuracies fitted on modified featurespace and selected featurespace:"
   ]
  },
  {
   "cell_type": "code",
   "execution_count": 4,
   "id": "comparable-discovery",
   "metadata": {},
   "outputs": [
    {
     "name": "stdout",
     "output_type": "stream",
     "text": [
      "Modified featurespace accuracy: 0.9192982456140351\n",
      "Selected featurespace accuracy: 0.9157894736842105\n"
     ]
    },
    {
     "name": "stderr",
     "output_type": "stream",
     "text": [
      "/home/akado/.local/lib/python3.8/site-packages/sklearn/linear_model/_logistic.py:763: ConvergenceWarning: lbfgs failed to converge (status=1):\n",
      "STOP: TOTAL NO. of ITERATIONS REACHED LIMIT.\n",
      "\n",
      "Increase the number of iterations (max_iter) or scale the data as shown in:\n",
      "    https://scikit-learn.org/stable/modules/preprocessing.html\n",
      "Please also refer to the documentation for alternative solver options:\n",
      "    https://scikit-learn.org/stable/modules/linear_model.html#logistic-regression\n",
      "  n_iter_i = _check_optimize_result(\n",
      "/home/akado/.local/lib/python3.8/site-packages/sklearn/linear_model/_logistic.py:763: ConvergenceWarning: lbfgs failed to converge (status=1):\n",
      "STOP: TOTAL NO. of ITERATIONS REACHED LIMIT.\n",
      "\n",
      "Increase the number of iterations (max_iter) or scale the data as shown in:\n",
      "    https://scikit-learn.org/stable/modules/preprocessing.html\n",
      "Please also refer to the documentation for alternative solver options:\n",
      "    https://scikit-learn.org/stable/modules/linear_model.html#logistic-regression\n",
      "  n_iter_i = _check_optimize_result(\n"
     ]
    }
   ],
   "source": [
    "X_test_selected = select.transform(X_test)\n",
    "\n",
    "lr1 = LogisticRegression().fit(X_train, y_train)\n",
    "print('Modified featurespace accuracy: {}'.format(lr1.score(X_test, y_test)))\n",
    "lr2 = LogisticRegression().fit(X_train_selected, y_train)\n",
    "print('Selected featurespace accuracy: {}'.format(lr2.score(X_test_selected, y_test)))"
   ]
  },
  {
   "cell_type": "markdown",
   "id": "thirty-stock",
   "metadata": {},
   "source": [
    "^ According to book it supposed to be increasing accuracy but sklearn had some updates since the book was written."
   ]
  },
  {
   "cell_type": "markdown",
   "id": "matched-kazakhstan",
   "metadata": {},
   "source": [
    "## - Model-Based Feature Selection\n",
    "Method finds and selects features that have the highest bond with Y considering interactions between them.\n",
    "\n",
    "'SelectFromModel' -selects features with importance higher than given value"
   ]
  },
  {
   "cell_type": "markdown",
   "id": "partial-accountability",
   "metadata": {},
   "source": [
    "Applying feature selecting:"
   ]
  },
  {
   "cell_type": "code",
   "execution_count": 5,
   "id": "russian-circus",
   "metadata": {},
   "outputs": [
    {
     "name": "stdout",
     "output_type": "stream",
     "text": [
      "X_train shape: (284, 80)\n",
      "X_train_l1 shape: (284, 40)\n"
     ]
    },
    {
     "data": {
      "text/plain": [
       "Text(0.5, 0, 'feature index')"
      ]
     },
     "execution_count": 5,
     "metadata": {},
     "output_type": "execute_result"
    },
    {
     "data": {
      "image/png": "[encoded data removed]",
      "text/plain": [
       "<Figure size 1152x144 with 1 Axes>"
      ]
     },
     "metadata": {
      "needs_background": "light"
     },
     "output_type": "display_data"
    }
   ],
   "source": [
    "from sklearn.feature_selection import SelectFromModel\n",
    "from sklearn.ensemble import RandomForestClassifier\n",
    "\n",
    "#-----initialazing, building and applying selector\n",
    "select = SelectFromModel( RandomForestClassifier(n_estimators=100, random_state=42), threshold='median')\n",
    "select.fit(X_train, y_train)\n",
    "X_train_l1 = select.transform(X_train)\n",
    "\n",
    "print('X_train shape: {}'.format(X_train.shape))\n",
    "print('X_train_l1 shape: {}'.format(X_train_l1.shape))\n",
    "\n",
    "#-----selected features visualization\n",
    "mask = select.get_support()\n",
    "plt.matshow(mask.reshape(1, -1))\n",
    "plt.xlabel('feature index')"
   ]
  },
  {
   "cell_type": "markdown",
   "id": "limiting-framework",
   "metadata": {},
   "source": [
    "^ Almost all random features were excluded."
   ]
  },
  {
   "cell_type": "markdown",
   "id": "annoying-eclipse",
   "metadata": {},
   "source": [
    "Comparison of models accuracies fitted on modified featurespace and selected featurespace:"
   ]
  },
  {
   "cell_type": "code",
   "execution_count": 10,
   "id": "welsh-alabama",
   "metadata": {},
   "outputs": [
    {
     "name": "stdout",
     "output_type": "stream",
     "text": [
      "Univariate statistics method accuracy: 0.9157894736842105\n",
      "Model-Based method accuracy: 0.9298245614035088\n"
     ]
    },
    {
     "name": "stderr",
     "output_type": "stream",
     "text": [
      "/home/akado/.local/lib/python3.8/site-packages/sklearn/linear_model/_logistic.py:763: ConvergenceWarning: lbfgs failed to converge (status=1):\n",
      "STOP: TOTAL NO. of ITERATIONS REACHED LIMIT.\n",
      "\n",
      "Increase the number of iterations (max_iter) or scale the data as shown in:\n",
      "    https://scikit-learn.org/stable/modules/preprocessing.html\n",
      "Please also refer to the documentation for alternative solver options:\n",
      "    https://scikit-learn.org/stable/modules/linear_model.html#logistic-regression\n",
      "  n_iter_i = _check_optimize_result(\n",
      "/home/akado/.local/lib/python3.8/site-packages/sklearn/linear_model/_logistic.py:763: ConvergenceWarning: lbfgs failed to converge (status=1):\n",
      "STOP: TOTAL NO. of ITERATIONS REACHED LIMIT.\n",
      "\n",
      "Increase the number of iterations (max_iter) or scale the data as shown in:\n",
      "    https://scikit-learn.org/stable/modules/preprocessing.html\n",
      "Please also refer to the documentation for alternative solver options:\n",
      "    https://scikit-learn.org/stable/modules/linear_model.html#logistic-regression\n",
      "  n_iter_i = _check_optimize_result(\n"
     ]
    }
   ],
   "source": [
    "X_test_l1 = select.transform(X_test)\n",
    "\n",
    "lr2 = LogisticRegression().fit(X_train_selected, y_train)\n",
    "print('Univariate statistics method accuracy: {}'.format(lr2.score(X_test_selected, y_test)))\n",
    "score = LogisticRegression().fit(X_train_l1, y_train).score(X_test_l1, y_test)\n",
    "print('Model-Based method accuracy: {}'.format(score))"
   ]
  },
  {
   "cell_type": "markdown",
   "id": "talented-signature",
   "metadata": {},
   "source": [
    "^ Accuracy increased."
   ]
  }
 ],
 "metadata": {
  "kernelspec": {
   "display_name": "Python 3",
   "language": "python",
   "name": "python3"
  },
  "language_info": {
   "codemirror_mode": {
    "name": "ipython",
    "version": 3
   },
   "file_extension": ".py",
   "mimetype": "text/x-python",
   "name": "python",
   "nbconvert_exporter": "python",
   "pygments_lexer": "ipython3",
   "version": "3.8.10"
  }
 },
 "nbformat": 4,
 "nbformat_minor": 5
}
