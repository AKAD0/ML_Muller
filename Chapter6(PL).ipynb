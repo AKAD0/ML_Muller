{
 "cells": [
  {
   "cell_type": "markdown",
   "id": "comparative-machinery",
   "metadata": {},
   "source": [
    "# Chapter 6. Pipelines."
   ]
  },
  {
   "cell_type": "markdown",
   "id": "bronze-ceremony",
   "metadata": {},
   "source": [
    "Notes:\n",
    "\n",
    "1) Data Scaling should be applied only to the training folds, thus cross-validation should be done BEFORE scaling in terms of using pipeline.\n",
    "\n",
    "2) There could be any number of stages in pipeline with the only requirement to keep all stages (except last one) to have method 'transform' in a such way that new transformed data could be used for next stage."
   ]
  },
  {
   "cell_type": "markdown",
   "id": "tender-fault",
   "metadata": {},
   "source": [
    "#### Setting up:"
   ]
  },
  {
   "cell_type": "code",
   "execution_count": 7,
   "id": "blond-cathedral",
   "metadata": {},
   "outputs": [
    {
     "name": "stdout",
     "output_type": "stream",
     "text": [
      "Test accuracy: 0.972027972027972\n"
     ]
    }
   ],
   "source": [
    "from sklearn.svm import SVC\n",
    "from sklearn.datasets import load_breast_cancer\n",
    "from sklearn.model_selection import train_test_split\n",
    "from sklearn.preprocessing import MinMaxScaler\n",
    "\n",
    "#-----dataset preparing\n",
    "cancer = load_breast_cancer()\n",
    "X_train, X_test, y_train, y_test = train_test_split(cancer.data, cancer.target, random_state=0)\n",
    "#scaling\n",
    "scaler = MinMaxScaler().fit(X_train)\n",
    "X_train_scaled = scaler.transform(X_train)\n",
    "\n",
    "#-----model initialization and building\n",
    "svm = SVC().fit(X_train_scaled, y_train)\n",
    "X_test_scaled = scaler.transform(X_test)\n",
    "\n",
    "print('Test accuracy: {}'.format(svm.score(X_test_scaled, y_test)))"
   ]
  },
  {
   "cell_type": "markdown",
   "id": "lucky-details",
   "metadata": {},
   "source": [
    "## - Building Pipelines."
   ]
  },
  {
   "cell_type": "markdown",
   "id": "charged-rochester",
   "metadata": {},
   "source": [
    "Corteges made of preferred name and used model are representing stages."
   ]
  },
  {
   "cell_type": "code",
   "execution_count": 8,
   "id": "friendly-flood",
   "metadata": {},
   "outputs": [
    {
     "name": "stdout",
     "output_type": "stream",
     "text": [
      "Test accuracy: 0.972027972027972\n"
     ]
    }
   ],
   "source": [
    "from sklearn.pipeline import Pipeline\n",
    "\n",
    "#initialization and building pipeline model:\n",
    "pipe = Pipeline([('scaler', MinMaxScaler()), ('svm', SVC())])\n",
    "pipe.fit(X_train, y_train)\n",
    "\n",
    "#accuracy:\n",
    "print('Test accuracy: {}'.format(pipe.score(X_test, y_test)))"
   ]
  },
  {
   "cell_type": "markdown",
   "id": "promotional-logging",
   "metadata": {},
   "source": [
    "## - Pipelines with GridSearchCV"
   ]
  },
  {
   "cell_type": "markdown",
   "id": "interstate-nirvana",
   "metadata": {},
   "source": [
    "Using GridSearchCV with pipelines is the same as usual (put the model inside GridSearchCV) but the grid itself should be assigned via specific syntax:"
   ]
  },
  {
   "cell_type": "code",
   "execution_count": 12,
   "id": "attended-greenhouse",
   "metadata": {},
   "outputs": [
    {
     "name": "stdout",
     "output_type": "stream",
     "text": [
      "Best cross-validation accuracy: 0.9812311901504789\n",
      "Test accuracy: 0.972027972027972\n",
      "Best params: {'svm__C': 1, 'svm__gamma': 1}\n"
     ]
    }
   ],
   "source": [
    "from sklearn.model_selection import GridSearchCV\n",
    "\n",
    "param_grid = {'svm__C': [0.001, 0.01, 0.1, 1, 10, 100],\n",
    "              'svm__gamma': [0.001, 0.01, 0.1, 1, 10, 100]}\n",
    "\n",
    "grid = GridSearchCV(pipe, param_grid=param_grid, cv=5)\n",
    "grid.fit(X_train, y_train)\n",
    "\n",
    "print('Best cross-validation accuracy: {}'.format(grid.best_score_))\n",
    "print('Test accuracy: {}'.format(grid.score(X_test, y_test)))\n",
    "print('Best params: {}'.format(grid.best_params_))"
   ]
  }
 ],
 "metadata": {
  "kernelspec": {
   "display_name": "Python 3",
   "language": "python",
   "name": "python3"
  },
  "language_info": {
   "codemirror_mode": {
    "name": "ipython",
    "version": 3
   },
   "file_extension": ".py",
   "mimetype": "text/x-python",
   "name": "python",
   "nbconvert_exporter": "python",
   "pygments_lexer": "ipython3",
   "version": "3.8.10"
  }
 },
 "nbformat": 4,
 "nbformat_minor": 5
}
