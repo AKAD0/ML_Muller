{
 "cells": [
  {
   "cell_type": "markdown",
   "id": "naval-longitude",
   "metadata": {},
   "source": [
    "# Chapter 5. Model evaluation and enhancement.\n",
    "# Part 2. Grid search.\n",
    "Trying all possible model params until the most efficient set would be found.\n",
    "\n",
    "The table of params forms grid."
   ]
  },
  {
   "cell_type": "markdown",
   "id": "informal-hurricane",
   "metadata": {},
   "source": [
    "## - Elementary grid search\n",
    "Realized via elementary set of for-to-do cycles:"
   ]
  },
  {
   "cell_type": "code",
   "execution_count": 5,
   "id": "military-galaxy",
   "metadata": {},
   "outputs": [
    {
     "name": "stdout",
     "output_type": "stream",
     "text": [
      "Best accuracy: 0.9736842105263158\n",
      "Best params: {'C': 100, 'gamma': 0.001}\n"
     ]
    }
   ],
   "source": [
    "from sklearn.svm import SVC\n",
    "from sklearn.model_selection import train_test_split\n",
    "from sklearn.datasets import load_iris\n",
    "\n",
    "iris = load_iris()\n",
    "X_train, X_test, y_train, y_test = train_test_split(iris.data, iris.target, random_state=0)\n",
    "\n",
    "best_score = 0\n",
    "for gamma in [0.001, 0.01, 0.1, 1, 10, 100]:\n",
    "    for C in [0.001, 0.01, 0.1, 1, 10, 100]:\n",
    "        svm = SVC(gamma=gamma, C=C).fit(X_train, y_train)\n",
    "        score = svm.score(X_test, y_test)\n",
    "        if score > best_score:\n",
    "            best_score = score\n",
    "            best_parameters = {'C':C, 'gamma':gamma}\n",
    "\n",
    "print('Best accuracy: {}'.format(best_score))\n",
    "print('Best params: {}'.format(best_parameters))"
   ]
  },
  {
   "cell_type": "markdown",
   "id": "coordinated-albuquerque",
   "metadata": {},
   "source": [
    "^ Accuracy value isn't genuine since it represents accuracy only for the gain bond of found params and test set which was the search factor."
   ]
  },
  {
   "cell_type": "markdown",
   "id": "lonely-metallic",
   "metadata": {},
   "source": [
    "## - Correct grid search"
   ]
  },
  {
   "cell_type": "markdown",
   "id": "dirty-yukon",
   "metadata": {},
   "source": [
    "To have genuine accuracy, there should be dataset separation which would give 3 parts: train set, validation set (to find params), test set (to get genuine accuracy).\n",
    "\n",
    "When best params would be found and before validating via test set, it's better to fit model again over train and validation data together to have best efficiency.\n",
    "\n",
    "The algorythm:"
   ]
  },
  {
   "cell_type": "code",
   "execution_count": 7,
   "id": "junior-upset",
   "metadata": {},
   "outputs": [
    {
     "name": "stdout",
     "output_type": "stream",
     "text": [
      "Train set shape: 84, validation set shape: 28, test set shape: 38\n",
      "Best found validation accuracy: 0.9642857142857143\n",
      "Best params set: {'C': 10, 'gamma': 0.001}\n",
      "Test accuracy: 0.9210526315789473\n"
     ]
    }
   ],
   "source": [
    "X_trainval, X_test, y_trainval, y_test = train_test_split(iris.data, iris.target, random_state=0)\n",
    "X_train, X_valid, y_train, y_valid = train_test_split(X_trainval, y_trainval, random_state=1)\n",
    "print('Train set shape: {}, validation set shape: {}, test set shape: {}'.format(X_train.shape[0], X_valid.shape[0], X_test.shape[0]))\n",
    "\n",
    "best_score = 0\n",
    "\n",
    "for gamma in [0.001, 0.01, 0.1, 1, 10, 100]:\n",
    "    for C in [0.001, 0.01, 0.1, 1, 10, 100]:\n",
    "        svm = SVC(gamma=gamma, C=C).fit(X_train, y_train)\n",
    "        score = svm.score(X_valid, y_valid)\n",
    "        if score>best_score:\n",
    "            best_score = score\n",
    "            best_parameters = {'C':C, 'gamma':gamma}\n",
    "            \n",
    "svm = SVC(**best_parameters).fit(X_trainval, y_trainval)\n",
    "test_score = svm.score(X_test, y_test)\n",
    "print('Best found validation accuracy: {}'.format(best_score))\n",
    "print('Best params set: {}'.format(best_parameters))\n",
    "print('Test accuracy: {}'.format(test_score))"
   ]
  },
  {
   "cell_type": "markdown",
   "id": "italic-gauge",
   "metadata": {},
   "source": [
    "^ Gain accuracy is kinda less which could be indicating that now accuracy value is more genuine."
   ]
  },
  {
   "cell_type": "markdown",
   "id": "received-australian",
   "metadata": {},
   "source": [
    "## - Grid search with cross-validation\n",
    "Combining cross-validation with grid search to find the best possible model parameters, model would be having the best accuracy."
   ]
  },
  {
   "cell_type": "code",
   "execution_count": 12,
   "id": "demanding-tract",
   "metadata": {},
   "outputs": [],
   "source": [
    "from sklearn.model_selection import cross_val_score\n",
    "import numpy as np\n",
    "\n",
    "for gamma in [0.001, 0.01, 0.1, 1, 10, 100]:\n",
    "    for C in [0.001, 0.01, 0.1, 1, 10, 100]:\n",
    "        svm = SVC(gamma=gamma, C=C).fit(X_train,y_train)\n",
    "        scores = cross_val_score(svm, X_trainval, y_trainval, cv=5)\n",
    "        score = np.mean(scores)\n",
    "        if score>best_score:\n",
    "            best_score=score\n",
    "            best_parameters = {'C':C,'gamma':gamma}\n",
    "\n",
    "svm = SVC(**best_parameters).fit(X_trainval,y_trainval)"
   ]
  },
  {
   "cell_type": "markdown",
   "id": "colonial-pierre",
   "metadata": {},
   "source": [
    "However, there's a 'GridSearchCV' to perform it via model with handy interface:"
   ]
  },
  {
   "cell_type": "code",
   "execution_count": 13,
   "id": "amber-turkish",
   "metadata": {},
   "outputs": [
    {
     "name": "stdout",
     "output_type": "stream",
     "text": [
      "Test accuracy: 0.9736842105263158\n"
     ]
    }
   ],
   "source": [
    "from sklearn.model_selection import GridSearchCV\n",
    "from sklearn.svm import SVC\n",
    "\n",
    "#splitting dataset\n",
    "X_train, X_test, y_train, y_test = train_test_split(iris.data, iris.target, random_state=0)\n",
    "\n",
    "#'GridSearchCV' needs dictionary of considering grid params\n",
    "param_grid = {'C':[0.001,0.01,0.1,1,10,100], 'gamma':[0.001,0.01,0.1,1,10,100]}\n",
    "\n",
    "#'SVC()' - model, 'param_grid' - param grid, 'cv=5' - 5 fold stratified cross-validation\n",
    "grid_search = GridSearchCV(SVC(), param_grid, cv=5)\n",
    "#'GridSearchCV.fit' runs cross-validation for each set of params...\n",
    "#...As result the best params set is gonna be found and...\n",
    "#...a model is gonna be built using them. 'predict','score' could be used\n",
    "grid_search.fit(X_train, y_train)\n",
    "\n",
    "print('Test accuracy: {}'.format(grid_search.score(X_test, y_test)))"
   ]
  },
  {
   "cell_type": "markdown",
   "id": "after-relation",
   "metadata": {},
   "source": [
    "^ The highest possible accuracy achieved through correct validation (the test set of data wasn't used to train model)."
   ]
  },
  {
   "cell_type": "markdown",
   "id": "dying-composition",
   "metadata": {},
   "source": [
    "'best_score_' - Found best params\n",
    "\n",
    "'best_score_' - Found best accuracy (as a mean value of fold sets for gain params)\n",
    "\n",
    "'best_estimator_' - Info about best model"
   ]
  },
  {
   "cell_type": "code",
   "execution_count": 15,
   "id": "cognitive-engine",
   "metadata": {},
   "outputs": [
    {
     "name": "stdout",
     "output_type": "stream",
     "text": [
      "Best param values: {'C': 10, 'gamma': 0.1}\n",
      "Best cross-validation accuracy: 0.9731225296442687\n",
      "Best model: SVC(C=10, gamma=0.1)\n"
     ]
    }
   ],
   "source": [
    "print('Best param values: {}'.format(grid_search.best_params_))\n",
    "print('Best cross-validation accuracy: {}'.format(grid_search.best_score_))\n",
    "print('Best model: {}'.format(grid_search.best_estimator_))"
   ]
  },
  {
   "cell_type": "markdown",
   "id": "supported-stopping",
   "metadata": {},
   "source": [
    "To use found model 'GridSearchCV' has 'GridSearchCV.predict' and 'GridSearchCV.score' methods"
   ]
  }
 ],
 "metadata": {
  "kernelspec": {
   "display_name": "Python 3",
   "language": "python",
   "name": "python3"
  },
  "language_info": {
   "codemirror_mode": {
    "name": "ipython",
    "version": 3
   },
   "file_extension": ".py",
   "mimetype": "text/x-python",
   "name": "python",
   "nbconvert_exporter": "python",
   "pygments_lexer": "ipython3",
   "version": "3.8.10"
  }
 },
 "nbformat": 4,
 "nbformat_minor": 5
}
