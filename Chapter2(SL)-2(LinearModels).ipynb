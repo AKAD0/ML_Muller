{
 "cells": [
  {
   "cell_type": "markdown",
   "id": "invisible-interpretation",
   "metadata": {},
   "source": [
    "# Chapter 2. Supervised Learning methods.\n",
    "# Part 2. Linear models."
   ]
  },
  {
   "cell_type": "markdown",
   "id": "alternate-transcript",
   "metadata": {},
   "source": [
    "## - Some datasets"
   ]
  },
  {
   "cell_type": "code",
   "execution_count": 1,
   "id": "novel-repeat",
   "metadata": {},
   "outputs": [],
   "source": [
    "import numpy as np\n",
    "import pandas as pd\n",
    "import matplotlib.pyplot as plt\n",
    "import mglearn"
   ]
  },
  {
   "cell_type": "markdown",
   "id": "gothic-effect",
   "metadata": {},
   "source": [
    "## Forge dataset (artificial)"
   ]
  },
  {
   "cell_type": "code",
   "execution_count": 2,
   "id": "favorite-temperature",
   "metadata": {},
   "outputs": [
    {
     "name": "stderr",
     "output_type": "stream",
     "text": [
      "/home/akado/.local/lib/python3.8/site-packages/sklearn/utils/deprecation.py:86: FutureWarning: Function make_blobs is deprecated; Please import make_blobs directly from scikit-learn\n",
      "  warnings.warn(msg, category=FutureWarning)\n"
     ]
    },
    {
     "data": {
      "text/plain": [
       "(26, 2)"
      ]
     },
     "execution_count": 2,
     "metadata": {},
     "output_type": "execute_result"
    }
   ],
   "source": [
    "#taking datasets\n",
    "X, y = mglearn.datasets.make_forge()\n",
    "X.shape"
   ]
  },
  {
   "cell_type": "code",
   "execution_count": 3,
   "id": "patent-practitioner",
   "metadata": {
    "scrolled": true
   },
   "outputs": [
    {
     "data": {
      "text/plain": [
       "Text(0, 0.5, 'Second feature')"
      ]
     },
     "execution_count": 3,
     "metadata": {},
     "output_type": "execute_result"
    },
    {
     "data": {
      "image/png": "[encoded data removed]",
      "text/plain": [
       "<Figure size 432x288 with 1 Axes>"
      ]
     },
     "metadata": {
      "needs_background": "light"
     },
     "output_type": "display_data"
    }
   ],
   "source": [
    "#building plot\n",
    "#%matplotlib inline #allows to add plots to the browser inteface\n",
    "mglearn.discrete_scatter(X[:, 0], X[:, 1], y) #plot building\n",
    "\n",
    "plt.legend([\"1st Class\", \"2nd Class\"], loc=4) #legend\n",
    "plt.xlabel(\"First feature\")\n",
    "plt.ylabel(\"Second feature\")"
   ]
  },
  {
   "cell_type": "markdown",
   "id": "impressive-polyester",
   "metadata": {},
   "source": [
    "## Wave dataset (artificial)"
   ]
  },
  {
   "cell_type": "code",
   "execution_count": 4,
   "id": "opposite-pressure",
   "metadata": {},
   "outputs": [
    {
     "data": {
      "text/plain": [
       "(40, 1)"
      ]
     },
     "execution_count": 4,
     "metadata": {},
     "output_type": "execute_result"
    }
   ],
   "source": [
    "#taking datasets\n",
    "X, y = mglearn.datasets.make_wave(n_samples =40)\n",
    "X.shape"
   ]
  },
  {
   "cell_type": "code",
   "execution_count": 5,
   "id": "sophisticated-mumbai",
   "metadata": {},
   "outputs": [
    {
     "data": {
      "text/plain": [
       "Text(0, 0.5, 'Target value')"
      ]
     },
     "execution_count": 5,
     "metadata": {},
     "output_type": "execute_result"
    },
    {
     "data": {
      "image/png": "[encoded data removed]",
      "text/plain": [
       "<Figure size 432x288 with 1 Axes>"
      ]
     },
     "metadata": {
      "needs_background": "light"
     },
     "output_type": "display_data"
    }
   ],
   "source": [
    "#building plot\n",
    "plt.plot(X, y, 'o')\n",
    "\n",
    "plt.xlabel(\"Feature\")\n",
    "plt.ylabel(\"Target value\")"
   ]
  },
  {
   "cell_type": "markdown",
   "id": "romantic-church",
   "metadata": {},
   "source": [
    "## Cancer dataset (natural)"
   ]
  },
  {
   "cell_type": "code",
   "execution_count": 6,
   "id": "random-chess",
   "metadata": {},
   "outputs": [],
   "source": [
    "from sklearn.datasets import load_breast_cancer\n",
    "cancer = load_breast_cancer()"
   ]
  },
  {
   "cell_type": "code",
   "execution_count": 7,
   "id": "immune-reducing",
   "metadata": {},
   "outputs": [
    {
     "name": "stdout",
     "output_type": "stream",
     "text": [
      "dict_keys(['data', 'target', 'frame', 'target_names', 'DESCR', 'feature_names', 'filename'])\n",
      "(569, 30)\n",
      "['mean radius' 'mean texture' 'mean perimeter' 'mean area'\n",
      " 'mean smoothness' 'mean compactness' 'mean concavity'\n",
      " 'mean concave points' 'mean symmetry' 'mean fractal dimension'\n",
      " 'radius error' 'texture error' 'perimeter error' 'area error'\n",
      " 'smoothness error' 'compactness error' 'concavity error'\n",
      " 'concave points error' 'symmetry error' 'fractal dimension error'\n",
      " 'worst radius' 'worst texture' 'worst perimeter' 'worst area'\n",
      " 'worst smoothness' 'worst compactness' 'worst concavity'\n",
      " 'worst concave points' 'worst symmetry' 'worst fractal dimension']\n"
     ]
    }
   ],
   "source": [
    "print(cancer.keys())\n",
    "print(cancer.data.shape)\n",
    "print(cancer.feature_names)"
   ]
  },
  {
   "cell_type": "code",
   "execution_count": 8,
   "id": "assigned-active",
   "metadata": {},
   "outputs": [
    {
     "data": {
      "text/plain": [
       "{'malignant': 212, 'benign': 357}"
      ]
     },
     "execution_count": 8,
     "metadata": {},
     "output_type": "execute_result"
    }
   ],
   "source": [
    "#building a hash table to examine dataset\n",
    "{n: v for n, v in zip(cancer.target_names, np.bincount(cancer.target))}"
   ]
  },
  {
   "cell_type": "markdown",
   "id": "disturbed-detector",
   "metadata": {},
   "source": [
    "## Boston Housing dataset (natural)"
   ]
  },
  {
   "cell_type": "code",
   "execution_count": 9,
   "id": "unsigned-foster",
   "metadata": {},
   "outputs": [],
   "source": [
    "from sklearn.datasets import load_boston\n",
    "boston = load_boston()"
   ]
  },
  {
   "cell_type": "code",
   "execution_count": 10,
   "id": "optical-disposition",
   "metadata": {},
   "outputs": [
    {
     "name": "stdout",
     "output_type": "stream",
     "text": [
      "dict_keys(['data', 'target', 'feature_names', 'DESCR', 'filename'])\n",
      "(506, 13)\n"
     ]
    }
   ],
   "source": [
    "print(boston.keys())\n",
    "print(boston.data.shape)"
   ]
  },
  {
   "cell_type": "markdown",
   "id": "maritime-certification",
   "metadata": {},
   "source": [
    "## Boston Housing extended dataset (natural)"
   ]
  },
  {
   "cell_type": "code",
   "execution_count": 11,
   "id": "spectacular-parks",
   "metadata": {},
   "outputs": [
    {
     "data": {
      "text/plain": [
       "(506, 104)"
      ]
     },
     "execution_count": 11,
     "metadata": {},
     "output_type": "execute_result"
    }
   ],
   "source": [
    "X, y = mglearn.datasets.load_extended_boston()\n",
    "\n",
    "#104 features are previous 13 default features...\n",
    "#...plus 91 derivative features\n",
    "X.shape"
   ]
  },
  {
   "cell_type": "markdown",
   "id": "fourth-bhutan",
   "metadata": {},
   "source": [
    "## - Linear Regression. Elementary example"
   ]
  },
  {
   "cell_type": "code",
   "execution_count": 12,
   "id": "interested-gibraltar",
   "metadata": {
    "scrolled": false
   },
   "outputs": [
    {
     "name": "stdout",
     "output_type": "stream",
     "text": [
      "w[0]: 0.393906  b: -0.031804\n"
     ]
    },
    {
     "data": {
      "image/png": "[encoded data removed]",
      "text/plain": [
       "<Figure size 576x576 with 1 Axes>"
      ]
     },
     "metadata": {
      "needs_background": "light"
     },
     "output_type": "display_data"
    }
   ],
   "source": [
    "#calculating w and b for y=wx+b  where...\n",
    "#...x and y are features and targets of dataset respectively\n",
    "mglearn.plots.plot_linear_regression_wave()"
   ]
  },
  {
   "cell_type": "markdown",
   "id": "cross-finish",
   "metadata": {},
   "source": [
    "## - Linear Regression\n",
    "Easy to build but hard to control accuracy.\n",
    "\n",
    "Principle lays on mean squared error minization just like gradient descend"
   ]
  },
  {
   "cell_type": "code",
   "execution_count": 13,
   "id": "printable-cricket",
   "metadata": {},
   "outputs": [
    {
     "name": "stdout",
     "output_type": "stream",
     "text": [
      "lr.coef_: [0.39390555]\n",
      "lr.intercept_: -0.03180434302675973\n",
      "train accuracy: 0.6700890315075756\n",
      "test accuracy: 0.6593368596863701\n"
     ]
    }
   ],
   "source": [
    "#-----model initialization\n",
    "from sklearn.linear_model import LinearRegression\n",
    "from sklearn.model_selection import train_test_split\n",
    "#loading dataset and splitting data to train and test sets\n",
    "X, y = mglearn.datasets.make_wave(n_samples=60)\n",
    "X_train, X_test, y_train, y_test = train_test_split(X, y, random_state=42)\n",
    "\n",
    "#model initialization and building\n",
    "lr = LinearRegression().fit(X_train, y_train)\n",
    "#show w (coefficients) and b (intercept/offset) of gain model\n",
    "print(\"lr.coef_: {}\".format(lr.coef_))\n",
    "print(\"lr.intercept_: {}\".format(lr.intercept_))\n",
    "\n",
    "#-----model validation\n",
    "print(\"train accuracy: {}\".format(lr.score(X_train, y_train)))\n",
    "print(\"test accuracy: {}\".format(lr.score(X_test, y_test)))"
   ]
  },
  {
   "cell_type": "markdown",
   "id": "athletic-arthritis",
   "metadata": {},
   "source": [
    "^ low accuracy for both of train and test sets tells that model is underfitted."
   ]
  },
  {
   "cell_type": "code",
   "execution_count": 14,
   "id": "lightweight-favor",
   "metadata": {},
   "outputs": [
    {
     "name": "stdout",
     "output_type": "stream",
     "text": [
      "train accuracy: 0.9520519609032729\n",
      "test accuracy: 0.6074721959665903\n"
     ]
    }
   ],
   "source": [
    "X, y = mglearn.datasets.load_extended_boston()\n",
    "X_train, X_test, y_train, y_test = train_test_split(X, y, random_state=0)\n",
    "#model initialization and building\n",
    "lr = LinearRegression().fit(X_train, y_train)\n",
    "\n",
    "#-----model validation\n",
    "print(\"train accuracy: {}\".format(lr.score(X_train, y_train)))\n",
    "print(\"test accuracy: {}\".format(lr.score(X_test, y_test)))"
   ]
  },
  {
   "cell_type": "markdown",
   "id": "traditional-curve",
   "metadata": {},
   "source": [
    "^ high accuracy for train set but low accuracy for test set tells that model is overfitted."
   ]
  },
  {
   "cell_type": "markdown",
   "id": "pleasant-bookmark",
   "metadata": {},
   "source": [
    "## - Ridge Regression (L2 Regularization)\n",
    "The same method as Linear Regression but with feature regularization (values minimization keeping the effectiveness - L2 regularization)\n",
    "\n",
    "Regularization is meant to prevent model from overfitting by its simplifying."
   ]
  },
  {
   "cell_type": "code",
   "execution_count": 15,
   "id": "correct-running",
   "metadata": {},
   "outputs": [
    {
     "name": "stdout",
     "output_type": "stream",
     "text": [
      "train accuracy: 0.8857966585170943\n",
      "test accuracy: 0.7527683481744755\n"
     ]
    }
   ],
   "source": [
    "from sklearn.linear_model import Ridge\n",
    "\n",
    "#-----model implementation\n",
    "#model initialization and building\n",
    "ridge = Ridge().fit(X_train, y_train)\n",
    "\n",
    "#-----model validation\n",
    "print(\"train accuracy: {}\".format(ridge.score(X_train, y_train)))\n",
    "print(\"test accuracy: {}\".format(ridge.score(X_test, y_test)))"
   ]
  },
  {
   "cell_type": "markdown",
   "id": "alike-management",
   "metadata": {},
   "source": [
    "^ train accuracy of ridge regression decreased but test accuracy increased. Ridge regression has a better generalization ability."
   ]
  },
  {
   "cell_type": "markdown",
   "id": "indirect-class",
   "metadata": {},
   "source": [
    "To control the regularization impact there is an 'alpha' param. The higher is 'alpha', the higher the minimalization effect (the more simple a model is). The goal is to find a compromise between model simplisity and train accuracy."
   ]
  },
  {
   "cell_type": "code",
   "execution_count": 16,
   "id": "developing-trinity",
   "metadata": {},
   "outputs": [
    {
     "name": "stdout",
     "output_type": "stream",
     "text": [
      "train accuracy: 0.7882787115369614\n",
      "test accuracy: 0.6359411489177309\n"
     ]
    }
   ],
   "source": [
    "#-----model implementation\n",
    "#model initialization and building (using 'alpha' param)\n",
    "ridge10 = Ridge(alpha=10).fit(X_train, y_train)\n",
    "\n",
    "#-----model validation\n",
    "print(\"train accuracy: {}\".format(ridge10.score(X_train, y_train)))\n",
    "print(\"test accuracy: {}\".format(ridge10.score(X_test, y_test)))"
   ]
  },
  {
   "cell_type": "markdown",
   "id": "exotic-drain",
   "metadata": {},
   "source": [
    "Adjusting alpha param to get better results:"
   ]
  },
  {
   "cell_type": "code",
   "execution_count": 17,
   "id": "welcome-letters",
   "metadata": {},
   "outputs": [
    {
     "name": "stdout",
     "output_type": "stream",
     "text": [
      "train accuracy: 0.7882787115369614\n",
      "test accuracy: 0.6359411489177309\n"
     ]
    }
   ],
   "source": [
    "#-----model implementation\n",
    "#model initialization and building (using 'alpha' param)\n",
    "ridge01 = Ridge(alpha=0.1).fit(X_train, y_train)\n",
    "print(\"train accuracy: {}\".format(ridge10.score(X_train, y_train)))\n",
    "print(\"test accuracy: {}\".format(ridge10.score(X_test, y_test)))"
   ]
  },
  {
   "cell_type": "markdown",
   "id": "configured-welding",
   "metadata": {},
   "source": [
    "As expected, high alpha value inhibits the W (feature value) aka 'coef_':"
   ]
  },
  {
   "cell_type": "code",
   "execution_count": 18,
   "id": "intermediate-sound",
   "metadata": {
    "scrolled": false
   },
   "outputs": [
    {
     "data": {
      "text/plain": [
       "<matplotlib.legend.Legend at 0x7f649b8d0760>"
      ]
     },
     "execution_count": 18,
     "metadata": {},
     "output_type": "execute_result"
    },
    {
     "data": {
      "image/png": "[encoded data removed]",
      "text/plain": [
       "<Figure size 432x288 with 1 Axes>"
      ]
     },
     "metadata": {
      "needs_background": "light"
     },
     "output_type": "display_data"
    }
   ],
   "source": [
    "plt.plot(ridge.coef_,'s',label='Ridge regression alpha=1')\n",
    "plt.plot(ridge10.coef_,'^',label='Ridge regression alpha=10')\n",
    "plt.plot(ridge01.coef_,'v',label='Ridge regression alpha=01')\n",
    "plt.plot(lr.coef_,'o',label='Linear regression')\n",
    "\n",
    "plt.xlabel('Coefficients indexes')\n",
    "plt.ylabel('Coefficient values')\n",
    "#limit the y axis\n",
    "plt.ylim(-25,25)\n",
    "#render the y=0 line\n",
    "plt.hlines(0,0,len(lr.coef_))\n",
    "\n",
    "plt.legend()"
   ]
  },
  {
   "cell_type": "markdown",
   "id": "double-helmet",
   "metadata": {},
   "source": [
    "## - Lasso Regression (L1 Regularization)\n",
    "The same as L2 Regularization in Ridge Regression but the difference is that some values become exactly zero (irrelevant features ignorance)"
   ]
  },
  {
   "cell_type": "code",
   "execution_count": 20,
   "id": "polyphonic-might",
   "metadata": {},
   "outputs": [
    {
     "name": "stdout",
     "output_type": "stream",
     "text": [
      "train accuracy: 0.29323768991114596\n",
      "test accuracy: 0.20937503255272272\n",
      "Used features count: 4\n"
     ]
    }
   ],
   "source": [
    "from sklearn.linear_model import Lasso\n",
    "#-----model implementation\n",
    "#model initialization and building\n",
    "lasso = Lasso().fit(X_train, y_train)\n",
    "\n",
    "#-----model validation\n",
    "print('train accuracy: {}'.format(lasso.score(X_train, y_train)))\n",
    "print('test accuracy: {}'.format(lasso.score(X_test, y_test)))\n",
    "\n",
    "print('Used features count: {}'.format(np.sum(lasso.coef_!=0)))"
   ]
  },
  {
   "cell_type": "markdown",
   "id": "occasional-hobby",
   "metadata": {},
   "source": [
    "^ model underfitting forces to increase the 'alpha' param. And also increase the 'max_iter' param (sets the max iterations count)"
   ]
  },
  {
   "cell_type": "code",
   "execution_count": 22,
   "id": "unable-journalism",
   "metadata": {},
   "outputs": [
    {
     "name": "stdout",
     "output_type": "stream",
     "text": [
      "train accuracy: 0.89622265110865\n",
      "test accuracy: 0.7656571174549978\n",
      "Used features count: 33\n"
     ]
    }
   ],
   "source": [
    "#-----model implemetaion\n",
    "#model initialization and building\n",
    "#increasing 'alpha' and 'max_iter' params\n",
    "lasso001 = Lasso(alpha=0.01, max_iter=100000).fit(X_train, y_train)\n",
    "\n",
    "#-----model validation\n",
    "print('train accuracy: {}'.format(lasso001.score(X_train, y_train)))\n",
    "print('test accuracy: {}'.format(lasso001.score(X_test, y_test)))\n",
    "\n",
    "print('Used features count: {}'.format(np.sum(lasso001.coef_!=0)))"
   ]
  },
  {
   "cell_type": "markdown",
   "id": "smooth-louisville",
   "metadata": {},
   "source": [
    "^ good results"
   ]
  },
  {
   "cell_type": "code",
   "execution_count": 23,
   "id": "dirty-martin",
   "metadata": {},
   "outputs": [
    {
     "name": "stdout",
     "output_type": "stream",
     "text": [
      "train accuracy: 0.9507158754515463\n",
      "test accuracy: 0.6437467421273717\n",
      "Used features count: 96\n"
     ]
    }
   ],
   "source": [
    "#-----model implemetaion\n",
    "#model initialization and building\n",
    "#increasing 'alpha' and 'max_iter' params\n",
    "lasso00001 = Lasso(alpha=0.0001, max_iter=100000).fit(X_train, y_train)\n",
    "\n",
    "#-----model validation\n",
    "print('train accuracy: {}'.format(lasso00001.score(X_train, y_train)))\n",
    "print('test accuracy: {}'.format(lasso00001.score(X_test, y_test)))\n",
    "\n",
    "print('Used features count: {}'.format(np.sum(lasso00001.coef_!=0)))"
   ]
  },
  {
   "cell_type": "markdown",
   "id": "supposed-costs",
   "metadata": {},
   "source": [
    "^ overfitting as the result of overadjusting 'alpha' param"
   ]
  },
  {
   "cell_type": "code",
   "execution_count": 24,
   "id": "exclusive-municipality",
   "metadata": {},
   "outputs": [
    {
     "data": {
      "text/plain": [
       "Text(0, 0.5, 'Coefficients value')"
      ]
     },
     "execution_count": 24,
     "metadata": {},
     "output_type": "execute_result"
    },
    {
     "data": {
      "image/png": "[encoded data removed]",
      "text/plain": [
       "<Figure size 432x288 with 1 Axes>"
      ]
     },
     "metadata": {
      "needs_background": "light"
     },
     "output_type": "display_data"
    }
   ],
   "source": [
    "plt.plot(lasso.coef_, 's', label='Lasso alpha=1')\n",
    "plt.plot(lasso001.coef_, '^', label='Lasso alpha=0.01')\n",
    "plt.plot(lasso00001.coef_, '^', label='Lasso alpha=0.0001')\n",
    "plt.plot(ridge01.coef_, 'o', label='Ridge alpha=0.1')\n",
    "\n",
    "plt.legend(ncol=2, loc=(0,1.05))\n",
    "plt.ylim(-25,25)\n",
    "plt.xlabel('Coefficients index')\n",
    "plt.ylabel('Coefficients value')"
   ]
  },
  {
   "cell_type": "markdown",
   "id": "advisory-wednesday",
   "metadata": {},
   "source": [
    "Choosing between Ridge and Lasso it's better to pick Lasso in case of huge count of features where you're sure that only few of them are important. Also Lasso would give a well-interpreted model because of less count of used features.\n",
    "\n",
    "There's 'ElasticNet' model class in scikit-learn that combines L1 and L2 regularizations that provides high quality for generalization ability."
   ]
  }
 ],
 "metadata": {
  "kernelspec": {
   "display_name": "Python 3",
   "language": "python",
   "name": "python3"
  },
  "language_info": {
   "codemirror_mode": {
    "name": "ipython",
    "version": 3
   },
   "file_extension": ".py",
   "mimetype": "text/x-python",
   "name": "python",
   "nbconvert_exporter": "python",
   "pygments_lexer": "ipython3",
   "version": "3.8.5"
  }
 },
 "nbformat": 4,
 "nbformat_minor": 5
}
