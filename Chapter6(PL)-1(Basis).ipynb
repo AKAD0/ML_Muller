{
 "cells": [
  {
   "cell_type": "markdown",
   "id": "comparative-machinery",
   "metadata": {},
   "source": [
    "# Chapter 6. Pipelines.\n",
    "# Part 1. Basis."
   ]
  },
  {
   "cell_type": "markdown",
   "id": "defensive-panic",
   "metadata": {},
   "source": [
    "Notes:\n",
    "\n",
    "1) Data Scaling should be applied only to the training folds, thus cross-validation should be done BEFORE scaling in terms of using pipeline.\n",
    "\n",
    "2) There could be any number of stages in pipeline with the only requirement to keep all stages (except last one) to have method 'transform' in a such way that new transformed data could be used for next stage."
   ]
  },
  {
   "cell_type": "markdown",
   "id": "tender-fault",
   "metadata": {},
   "source": [
    "#### Setting up:"
   ]
  },
  {
   "cell_type": "code",
   "execution_count": 11,
   "id": "blond-cathedral",
   "metadata": {},
   "outputs": [
    {
     "name": "stdout",
     "output_type": "stream",
     "text": [
      "Test accuracy: 0.972027972027972\n"
     ]
    }
   ],
   "source": [
    "from sklearn.svm import SVC\n",
    "from sklearn.datasets import load_breast_cancer\n",
    "from sklearn.model_selection import train_test_split\n",
    "from sklearn.preprocessing import MinMaxScaler\n",
    "\n",
    "#-----dataset preparing\n",
    "cancer = load_breast_cancer()\n",
    "X_train, X_test, y_train, y_test = train_test_split(cancer.data, cancer.target, random_state=0)\n",
    "#scaling\n",
    "scaler = MinMaxScaler().fit(X_train)\n",
    "X_train_scaled = scaler.transform(X_train)\n",
    "\n",
    "#-----model initialization and building\n",
    "svm = SVC().fit(X_train_scaled, y_train)\n",
    "X_test_scaled = scaler.transform(X_test)\n",
    "\n",
    "print('Test accuracy: {}'.format(svm.score(X_test_scaled, y_test)))"
   ]
  },
  {
   "cell_type": "markdown",
   "id": "weird-stationery",
   "metadata": {},
   "source": [
    "## - Building Pipelines."
   ]
  },
  {
   "cell_type": "markdown",
   "id": "postal-confusion",
   "metadata": {},
   "source": [
    "Corteges made of preferred name and used model are representing stages."
   ]
  },
  {
   "cell_type": "code",
   "execution_count": 12,
   "id": "minimal-sucking",
   "metadata": {},
   "outputs": [
    {
     "name": "stdout",
     "output_type": "stream",
     "text": [
      "Test accuracy: 0.972027972027972\n"
     ]
    }
   ],
   "source": [
    "from sklearn.pipeline import Pipeline\n",
    "\n",
    "#initialization and building pipeline model:\n",
    "pipe = Pipeline([('scaler', MinMaxScaler()), ('svm', SVC())])\n",
    "pipe.fit(X_train, y_train)\n",
    "\n",
    "#accuracy:\n",
    "print('Test accuracy: {}'.format(pipe.score(X_test, y_test)))"
   ]
  },
  {
   "cell_type": "markdown",
   "id": "revised-literature",
   "metadata": {},
   "source": [
    "There's also a handy way to build pipeline via 'make_pipeline'. It's the same thing but the stage's name is assigned automatically:"
   ]
  },
  {
   "cell_type": "code",
   "execution_count": 16,
   "id": "dying-token",
   "metadata": {},
   "outputs": [
    {
     "name": "stdout",
     "output_type": "stream",
     "text": [
      "Pipelines stages:\n",
      "[('minmaxscaler', MinMaxScaler()), ('svc', SVC(C=100))]\n"
     ]
    }
   ],
   "source": [
    "from sklearn.pipeline import make_pipeline\n",
    "\n",
    "#standard syntax:\n",
    "pipe_long = ([('scaler', MinMaxScaler()), ('svm', SVC(C=100))])\n",
    "#'make_pipeline' syntax:\n",
    "pipe_short = make_pipeline(MinMaxScaler(), SVC(C=100))\n",
    "\n",
    "#assigned stage names within corteges:\n",
    "print('Pipelines stages:\\n{}'.format(pipe_short.steps))"
   ]
  },
  {
   "cell_type": "markdown",
   "id": "close-origin",
   "metadata": {},
   "source": [
    "## - Pipelines with GridSearchCV"
   ]
  },
  {
   "cell_type": "markdown",
   "id": "objective-ideal",
   "metadata": {},
   "source": [
    "Using GridSearchCV with pipelines is the same as usual (put the model inside GridSearchCV) but the grid itself should be assigned via specific syntax:"
   ]
  },
  {
   "cell_type": "code",
   "execution_count": 14,
   "id": "desperate-cabinet",
   "metadata": {},
   "outputs": [
    {
     "name": "stdout",
     "output_type": "stream",
     "text": [
      "Best cross-validation accuracy: 0.9812311901504789\n",
      "Test accuracy: 0.972027972027972\n",
      "Best params: {'svm__C': 1, 'svm__gamma': 1}\n"
     ]
    }
   ],
   "source": [
    "from sklearn.model_selection import GridSearchCV\n",
    "\n",
    "param_grid = {'svm__C': [0.001, 0.01, 0.1, 1, 10, 100],\n",
    "              'svm__gamma': [0.001, 0.01, 0.1, 1, 10, 100]}\n",
    "\n",
    "grid = GridSearchCV(pipe, param_grid=param_grid, cv=5)\n",
    "grid.fit(X_train, y_train)\n",
    "\n",
    "print('Best cross-validation accuracy: {}'.format(grid.best_score_))\n",
    "print('Test accuracy: {}'.format(grid.score(X_test, y_test)))\n",
    "print('Best params: {}'.format(grid.best_params_))"
   ]
  },
  {
   "cell_type": "markdown",
   "id": "metropolitan-modeling",
   "metadata": {},
   "source": [
    "## - Stage's atributes\n",
    "To see stage's model atributes it should be used 'named_steps' which is a dictionary of names attached to models:"
   ]
  },
  {
   "cell_type": "code",
   "execution_count": 27,
   "id": "virgin-durham",
   "metadata": {
    "scrolled": false
   },
   "outputs": [
    {
     "name": "stdout",
     "output_type": "stream",
     "text": [
      "Steps: {'standardscaler-1': StandardScaler(), 'pca': PCA(n_components=2), 'standardscaler-2': StandardScaler()}\n",
      "\n",
      "PCA components shape: (2, 30)\n"
     ]
    }
   ],
   "source": [
    "from sklearn.preprocessing import StandardScaler\n",
    "from sklearn.decomposition import PCA\n",
    "\n",
    "pipe = make_pipeline(StandardScaler(), PCA(n_components=2), StandardScaler())\n",
    "\n",
    "pipe.fit(cancer.data)\n",
    "components = pipe.named_steps['pca'].components_\n",
    "\n",
    "print('Steps: {}\\n'.format(pipe.named_steps))\n",
    "print('PCA components shape: {}'.format(components.shape))"
   ]
  }
 ],
 "metadata": {
  "kernelspec": {
   "display_name": "Python 3",
   "language": "python",
   "name": "python3"
  },
  "language_info": {
   "codemirror_mode": {
    "name": "ipython",
    "version": 3
   },
   "file_extension": ".py",
   "mimetype": "text/x-python",
   "name": "python",
   "nbconvert_exporter": "python",
   "pygments_lexer": "ipython3",
   "version": "3.8.10"
  }
 },
 "nbformat": 4,
 "nbformat_minor": 5
}
