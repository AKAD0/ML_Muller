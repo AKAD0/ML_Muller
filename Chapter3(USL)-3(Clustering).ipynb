{
 "cells": [
  {
   "cell_type": "markdown",
   "id": "pursuant-xerox",
   "metadata": {},
   "source": [
    "# Chapter 3. Unsupervised Learning methods.\n",
    "# Part 3. Clustering"
   ]
  },
  {
   "cell_type": "markdown",
   "id": "split-vaccine",
   "metadata": {},
   "source": [
    "## - k-Means Clustering"
   ]
  },
  {
   "cell_type": "markdown",
   "id": "adjusted-living",
   "metadata": {},
   "source": [
    "Clustering differs from classification in that it has no clue of true labels and tries to automatically find those so the only information it could get out of found clusters is that samples in it are similar to each other.\n",
    "\n",
    "The algorithm is iterative:\n",
    "\n",
    "1) randomly assign k given cluster centers\n",
    "\n",
    "2) assign cluster labels to nearest samples\n",
    "\n",
    "3) calculate centroids and shift cluster centers to them respectively\n",
    "\n",
    "4) reassign cluster labels to nearest samples\n",
    "\n",
    "5) repeat 2-5 untill samples would stop reassigning their labels"
   ]
  },
  {
   "cell_type": "markdown",
   "id": "knowing-barrel",
   "metadata": {},
   "source": [
    "Applying k-Means Clustering:"
   ]
  },
  {
   "cell_type": "code",
   "execution_count": 13,
   "id": "comfortable-timber",
   "metadata": {},
   "outputs": [
    {
     "name": "stdout",
     "output_type": "stream",
     "text": [
      "Cluster affiliations: [1 2 2 2 0 0 0 2 1 1 2 2 0 1 0 0 0 1 2 2 0 2 0 1 2 0 0 1 1 0 1 1 0 1 2 0 2\n",
      " 2 2 0 0 2 1 2 2 0 1 1 1 1 2 0 0 0 1 0 2 2 1 1 2 0 0 2 2 0 1 0 1 2 2 2 0 1\n",
      " 1 2 0 0 1 2 1 2 2 0 1 1 1 1 2 1 0 1 1 2 2 0 0 1 0 1]\n",
      "\n",
      "Prognostications: [1 2 2 2 0 0 0 2 1 1 2 2 0 1 0 0 0 1 2 2 0 2 0 1 2 0 0 1 1 0 1 1 0 1 2 0 2\n",
      " 2 2 0 0 2 1 2 2 0 1 1 1 1 2 0 0 0 1 0 2 2 1 1 2 0 0 2 2 0 1 0 1 2 2 2 0 1\n",
      " 1 2 0 0 1 2 1 2 2 0 1 1 1 1 2 1 0 1 1 2 2 0 0 1 0 1]\n"
     ]
    },
    {
     "data": {
      "text/plain": [
       "[<matplotlib.lines.Line2D at 0x7fa8b6b93ac0>,\n",
       " <matplotlib.lines.Line2D at 0x7fa8b6b93e50>,\n",
       " <matplotlib.lines.Line2D at 0x7fa8b6b9f220>]"
      ]
     },
     "execution_count": 13,
     "metadata": {},
     "output_type": "execute_result"
    },
    {
     "data": {
      "image/png": "[encoded data removed]",
      "text/plain": [
       "<Figure size 432x288 with 1 Axes>"
      ]
     },
     "metadata": {
      "needs_background": "light"
     },
     "output_type": "display_data"
    }
   ],
   "source": [
    "from sklearn.datasets import make_blobs\n",
    "from sklearn.cluster import KMeans\n",
    "import mglearn\n",
    "\n",
    "#loading dataset\n",
    "X, y = make_blobs(random_state=1)\n",
    "\n",
    "#model initialization and building\n",
    "kmeans = KMeans(n_clusters=3).fit(X)\n",
    "\n",
    "#calculated affiliation to clusters\n",
    "#they are stored in 'labels_'\n",
    "print('Cluster affiliations: {}\\n'.format(kmeans.labels_))\n",
    "\n",
    "#predicting affiliations to samples (in this case samples are...\n",
    "#...the same as the train ones)\n",
    "#to make prognostications, use the 'predict' method\n",
    "print('Prognostications: {}'.format(kmeans.predict(X)))\n",
    "\n",
    "#results visualization\n",
    "mglearn.discrete_scatter(X[:, 0], X[:, 1], kmeans.labels_, markers='o')\n",
    "mglearn.discrete_scatter(kmeans.cluster_centers_[:, 0], kmeans.cluster_centers_[:, 1], [0,1,2], markers='^', markeredgewidth=2)"
   ]
  },
  {
   "cell_type": "markdown",
   "id": "following-peninsula",
   "metadata": {},
   "source": [
    "k-Means Clustering can't be apllied to datasets that can't be correctly clusterized by assigning labels to nearest cluster centers."
   ]
  }
 ],
 "metadata": {
  "kernelspec": {
   "display_name": "Python 3",
   "language": "python",
   "name": "python3"
  },
  "language_info": {
   "codemirror_mode": {
    "name": "ipython",
    "version": 3
   },
   "file_extension": ".py",
   "mimetype": "text/x-python",
   "name": "python",
   "nbconvert_exporter": "python",
   "pygments_lexer": "ipython3",
   "version": "3.8.5"
  }
 },
 "nbformat": 4,
 "nbformat_minor": 5
}
